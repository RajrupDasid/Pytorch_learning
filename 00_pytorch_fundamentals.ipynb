{
 "cells": [
  {
   "cell_type": "code",
   "execution_count": 1,
   "id": "6660d3b9-4ad1-4f2a-9518-da0544ff2708",
   "metadata": {},
   "outputs": [
    {
     "name": "stdout",
     "output_type": "stream",
     "text": [
      "Setup completed\n",
      "2.0.1+cpu\n"
     ]
    }
   ],
   "source": [
    "import torch\n",
    "import pandas as pd\n",
    "import numpy as np\n",
    "import matplotlib.pyplot as plt\n",
    "\n",
    "print(\"Setup completed\")\n",
    "print(torch.__version__)"
   ]
  },
  {
   "cell_type": "markdown",
   "id": "6d5c76e3-af21-48e1-9dc9-0323489e87f6",
   "metadata": {},
   "source": [
    "## Introduction to tensors"
   ]
  },
  {
   "cell_type": "markdown",
   "id": "421d355a-98bc-46af-9c51-6289a0e08a7b",
   "metadata": {},
   "source": [
    "### Creating tensors\n",
    "- Pytorch tensors are created using torch.Tensor() = [Pytorch.tensor](https://pytorch.org/docs/stable/tensors.html)\n",
    "- \n"
   ]
  },
  {
   "cell_type": "code",
   "execution_count": 2,
   "id": "291bdfce-ae00-4273-8b33-b82124f57f14",
   "metadata": {},
   "outputs": [
    {
     "name": "stdout",
     "output_type": "stream",
     "text": [
      "tensor(7)\n"
     ]
    }
   ],
   "source": [
    "# scalar\n",
    "scalar = torch.tensor(7)\n",
    "print(scalar)"
   ]
  },
  {
   "cell_type": "code",
   "execution_count": 3,
   "id": "8da8cc43-e618-4712-b079-69b7adcaaaf5",
   "metadata": {},
   "outputs": [
    {
     "data": {
      "text/plain": [
       "0"
      ]
     },
     "execution_count": 3,
     "metadata": {},
     "output_type": "execute_result"
    }
   ],
   "source": [
    "# dimension of scalar\n",
    "scalar.ndim"
   ]
  },
  {
   "cell_type": "code",
   "execution_count": 4,
   "id": "6a955fa0-af76-488f-960e-5c635e1984f1",
   "metadata": {},
   "outputs": [
    {
     "data": {
      "text/plain": [
       "7"
      ]
     },
     "execution_count": 4,
     "metadata": {},
     "output_type": "execute_result"
    }
   ],
   "source": [
    "# item in the current scalar run time\n",
    "scalar.item()"
   ]
  },
  {
   "cell_type": "code",
   "execution_count": 5,
   "id": "8e98dc2d-76c7-4718-90f5-bba961ce9336",
   "metadata": {},
   "outputs": [
    {
     "name": "stdout",
     "output_type": "stream",
     "text": [
      "tensor([7, 7])\n"
     ]
    }
   ],
   "source": [
    "# vector\n",
    "\n",
    "vector = torch.tensor([7,7])\n",
    "print(vector)"
   ]
  },
  {
   "cell_type": "code",
   "execution_count": 6,
   "id": "a54c6dc1-75c9-43ef-9757-6061295715da",
   "metadata": {},
   "outputs": [
    {
     "data": {
      "text/plain": [
       "1"
      ]
     },
     "execution_count": 6,
     "metadata": {},
     "output_type": "execute_result"
    }
   ],
   "source": [
    "vector.ndim"
   ]
  },
  {
   "cell_type": "code",
   "execution_count": 7,
   "id": "576572f8-f932-4568-aacf-4eaecd43098a",
   "metadata": {},
   "outputs": [
    {
     "data": {
      "text/plain": [
       "torch.Size([2])"
      ]
     },
     "execution_count": 7,
     "metadata": {},
     "output_type": "execute_result"
    }
   ],
   "source": [
    "vector.shape"
   ]
  },
  {
   "cell_type": "code",
   "execution_count": 8,
   "id": "75323e40-2359-431e-8328-e514f9772c07",
   "metadata": {},
   "outputs": [
    {
     "name": "stdout",
     "output_type": "stream",
     "text": [
      "tensor([[7, 8],\n",
      "        [9, 8]])\n"
     ]
    }
   ],
   "source": [
    "# matrix\n",
    "MATRIX = torch.tensor([\n",
    "    [7,8],\n",
    "    [9,8]\n",
    "])\n",
    "print(MATRIX)"
   ]
  },
  {
   "cell_type": "code",
   "execution_count": 9,
   "id": "eae7821c-cc65-4c73-943f-f01f78cb7137",
   "metadata": {},
   "outputs": [
    {
     "data": {
      "text/plain": [
       "2"
      ]
     },
     "execution_count": 9,
     "metadata": {},
     "output_type": "execute_result"
    }
   ],
   "source": [
    "MATRIX.ndim"
   ]
  },
  {
   "cell_type": "code",
   "execution_count": 10,
   "id": "e791bca5-22f7-432f-93d7-f923f9e42def",
   "metadata": {},
   "outputs": [
    {
     "data": {
      "text/plain": [
       "tensor([9, 8])"
      ]
     },
     "execution_count": 10,
     "metadata": {},
     "output_type": "execute_result"
    }
   ],
   "source": [
    "MATRIX[1]"
   ]
  },
  {
   "cell_type": "code",
   "execution_count": 11,
   "id": "e84dca9c-e1bf-471e-bfa6-81a35b40e454",
   "metadata": {},
   "outputs": [
    {
     "data": {
      "text/plain": [
       "torch.Size([2, 2])"
      ]
     },
     "execution_count": 11,
     "metadata": {},
     "output_type": "execute_result"
    }
   ],
   "source": [
    "MATRIX.shape"
   ]
  },
  {
   "cell_type": "code",
   "execution_count": 12,
   "id": "a30f4cb2-da23-4aa0-b1cb-63539694e8e6",
   "metadata": {},
   "outputs": [
    {
     "name": "stdout",
     "output_type": "stream",
     "text": [
      "tensor([[[1, 2, 3],\n",
      "         [2, 3, 4],\n",
      "         [5, 8, 7]]])\n"
     ]
    }
   ],
   "source": [
    "# TENSOR\n",
    "\n",
    "TENSOR = torch.tensor([\n",
    "    [\n",
    "        [1,2,3],\n",
    "        [2,3,4],\n",
    "        [5,8,7]\n",
    "        \n",
    "    ]\n",
    "        \n",
    "])\n",
    "\n",
    "print(TENSOR)"
   ]
  },
  {
   "cell_type": "code",
   "execution_count": 13,
   "id": "8c685fbd-b03b-4fa7-9e84-037a8129a87e",
   "metadata": {},
   "outputs": [
    {
     "data": {
      "text/plain": [
       "3"
      ]
     },
     "execution_count": 13,
     "metadata": {},
     "output_type": "execute_result"
    }
   ],
   "source": [
    "TENSOR.ndim"
   ]
  },
  {
   "cell_type": "code",
   "execution_count": 14,
   "id": "fef61175-603a-4763-9d07-aeb07a3f3ed2",
   "metadata": {},
   "outputs": [
    {
     "data": {
      "text/plain": [
       "torch.Size([1, 3, 3])"
      ]
     },
     "execution_count": 14,
     "metadata": {},
     "output_type": "execute_result"
    }
   ],
   "source": [
    "TENSOR.shape"
   ]
  },
  {
   "cell_type": "code",
   "execution_count": 15,
   "id": "20906722-a918-4453-a4da-800766ce39d4",
   "metadata": {},
   "outputs": [
    {
     "data": {
      "text/plain": [
       "tensor([[1, 2, 3],\n",
       "        [2, 3, 4],\n",
       "        [5, 8, 7]])"
      ]
     },
     "execution_count": 15,
     "metadata": {},
     "output_type": "execute_result"
    }
   ],
   "source": [
    "TENSOR[0]"
   ]
  },
  {
   "cell_type": "markdown",
   "id": "76658f1f-470a-43b6-8fb8-58de98c7f842",
   "metadata": {},
   "source": [
    "Upper TENSOR.shape represents that we have one 3,3 tensor"
   ]
  },
  {
   "cell_type": "code",
   "execution_count": 16,
   "id": "c167987d-de3c-4d2c-aeb3-98755ad93a6a",
   "metadata": {},
   "outputs": [
    {
     "name": "stdout",
     "output_type": "stream",
     "text": [
      "tensor([[0.3695, 0.1515, 0.7055, 0.0280, 0.2145],\n",
      "        [0.9486, 0.5979, 0.3409, 0.7170, 0.0293],\n",
      "        [0.3902, 0.4836, 0.6350, 0.5610, 0.0025]])\n"
     ]
    }
   ],
   "source": [
    "# random tensor with size with shape (3,4)\n",
    "random_tensor = torch.rand(3,5)\n",
    "print(random_tensor)"
   ]
  },
  {
   "cell_type": "code",
   "execution_count": 17,
   "id": "24d0f88a-d9e3-4a8c-8926-8b4411024561",
   "metadata": {},
   "outputs": [
    {
     "data": {
      "text/plain": [
       "2"
      ]
     },
     "execution_count": 17,
     "metadata": {},
     "output_type": "execute_result"
    }
   ],
   "source": [
    "random_tensor.ndim"
   ]
  },
  {
   "cell_type": "code",
   "execution_count": 18,
   "id": "e2ed0e10-f19a-4de7-8ec4-266c6f9123ea",
   "metadata": {},
   "outputs": [
    {
     "data": {
      "text/plain": [
       "torch.Size([3, 5])"
      ]
     },
     "execution_count": 18,
     "metadata": {},
     "output_type": "execute_result"
    }
   ],
   "source": [
    "random_tensor.shape"
   ]
  },
  {
   "cell_type": "code",
   "execution_count": 19,
   "id": "0de8761e-f1bc-4f34-98f0-ff33abc4592f",
   "metadata": {},
   "outputs": [
    {
     "data": {
      "text/plain": [
       "tensor([[[0.0760, 0.3880, 0.2902,  ..., 0.9668, 0.1024, 0.1928],\n",
       "         [0.0085, 0.0469, 0.4483,  ..., 0.0494, 0.2993, 0.2640],\n",
       "         [0.8090, 0.9896, 0.8870,  ..., 0.4376, 0.3024, 0.6181],\n",
       "         ...,\n",
       "         [0.0848, 0.5408, 0.2022,  ..., 0.9443, 0.6206, 0.9900],\n",
       "         [0.0889, 0.9387, 0.2347,  ..., 0.9238, 0.4251, 0.5420],\n",
       "         [0.9954, 0.8912, 0.3921,  ..., 0.9829, 0.8375, 0.5400]],\n",
       "\n",
       "        [[0.9608, 0.3903, 0.5862,  ..., 0.6923, 0.4318, 0.3247],\n",
       "         [0.4762, 0.7621, 0.3090,  ..., 0.9512, 0.4997, 0.4395],\n",
       "         [0.8785, 0.8243, 0.0901,  ..., 0.6048, 0.5929, 0.4260],\n",
       "         ...,\n",
       "         [0.2030, 0.3783, 0.6631,  ..., 0.2283, 0.1743, 0.4601],\n",
       "         [0.8002, 0.5744, 0.3591,  ..., 0.5788, 0.4170, 0.5857],\n",
       "         [0.8087, 0.7570, 0.2321,  ..., 0.9014, 0.8919, 0.1218]],\n",
       "\n",
       "        [[0.9936, 0.7999, 0.5806,  ..., 0.1361, 0.3633, 0.8018],\n",
       "         [0.0427, 0.1610, 0.5550,  ..., 0.0075, 0.4679, 0.2210],\n",
       "         [0.7628, 0.5738, 0.5387,  ..., 0.8974, 0.7324, 0.1497],\n",
       "         ...,\n",
       "         [0.7502, 0.9297, 0.7926,  ..., 0.7344, 0.3683, 0.6280],\n",
       "         [0.6384, 0.3812, 0.6226,  ..., 0.5857, 0.0658, 0.7726],\n",
       "         [0.3096, 0.7789, 0.2846,  ..., 0.8725, 0.7238, 0.9444]],\n",
       "\n",
       "        ...,\n",
       "\n",
       "        [[0.5962, 0.1659, 0.2588,  ..., 0.5105, 0.8140, 0.3035],\n",
       "         [0.2044, 0.4667, 0.7950,  ..., 0.2636, 0.7212, 0.2719],\n",
       "         [0.5090, 0.1313, 0.2241,  ..., 0.8898, 0.4187, 0.1350],\n",
       "         ...,\n",
       "         [0.9662, 0.7956, 0.8716,  ..., 0.3396, 0.6997, 0.1956],\n",
       "         [0.2088, 0.2563, 0.1288,  ..., 0.6389, 0.6300, 0.0763],\n",
       "         [0.3373, 0.3239, 0.5576,  ..., 0.9863, 0.5131, 0.5576]],\n",
       "\n",
       "        [[0.3846, 0.8977, 0.0357,  ..., 0.2309, 0.5806, 0.8020],\n",
       "         [0.0968, 0.8518, 0.5422,  ..., 0.8561, 0.6106, 0.4533],\n",
       "         [0.2098, 0.9688, 0.7010,  ..., 0.8781, 0.7899, 0.7813],\n",
       "         ...,\n",
       "         [0.1629, 0.5638, 0.8863,  ..., 0.5623, 0.2199, 0.5654],\n",
       "         [0.2268, 0.1603, 0.5020,  ..., 0.5549, 0.5712, 0.6463],\n",
       "         [0.2292, 0.0223, 0.8238,  ..., 0.2698, 0.7159, 0.1697]],\n",
       "\n",
       "        [[0.2102, 0.9654, 0.3662,  ..., 0.5676, 0.8993, 0.9862],\n",
       "         [0.8449, 0.3652, 0.4341,  ..., 0.8547, 0.1002, 0.5167],\n",
       "         [0.3894, 0.9891, 0.9912,  ..., 0.1605, 0.2109, 0.5609],\n",
       "         ...,\n",
       "         [0.6209, 0.7968, 0.5549,  ..., 0.2786, 0.0142, 0.9891],\n",
       "         [0.9653, 0.8298, 0.3622,  ..., 0.3031, 0.2654, 0.6372],\n",
       "         [0.8728, 0.3352, 0.9062,  ..., 0.6222, 0.7512, 0.6431]]])"
      ]
     },
     "execution_count": 19,
     "metadata": {},
     "output_type": "execute_result"
    }
   ],
   "source": [
    "random_tensor1 = torch.rand(10, 20, 40)\n",
    "random_tensor1"
   ]
  },
  {
   "cell_type": "code",
   "execution_count": 20,
   "id": "d5aaec00-89d9-4285-8625-77a3a067d077",
   "metadata": {},
   "outputs": [
    {
     "data": {
      "text/plain": [
       "3"
      ]
     },
     "execution_count": 20,
     "metadata": {},
     "output_type": "execute_result"
    }
   ],
   "source": [
    "random_tensor1.ndim"
   ]
  },
  {
   "cell_type": "code",
   "execution_count": 21,
   "id": "8adf2e55-1135-44c7-bead-4ac8da2617af",
   "metadata": {},
   "outputs": [
    {
     "data": {
      "text/plain": [
       "(torch.Size([224, 223, 3]), 3)"
      ]
     },
     "execution_count": 21,
     "metadata": {},
     "output_type": "execute_result"
    }
   ],
   "source": [
    "# create a random tensor with smilar shape to an image tensor\n",
    "\n",
    "random_image_size_tensor = torch.rand(size=(224,223,3)) # height , width , color channels (R,G.B)\n",
    "random_image_size_tensor.shape, random_image_size_tensor.ndim"
   ]
  },
  {
   "cell_type": "code",
   "execution_count": 22,
   "id": "020b4025-5cf8-482e-bdb1-200a93d7ae38",
   "metadata": {},
   "outputs": [
    {
     "data": {
      "text/plain": [
       "(torch.Size([2233, 2453, 3]), 3)"
      ]
     },
     "execution_count": 22,
     "metadata": {},
     "output_type": "execute_result"
    }
   ],
   "source": [
    "# create a random tensor with smilar shape to an image tensor\n",
    "\n",
    "random_image_size_tensor = torch.rand(size=(2233,2453,3)) # height , width , color channels (R,G.B)\n",
    "random_image_size_tensor.shape, random_image_size_tensor.ndim"
   ]
  },
  {
   "cell_type": "markdown",
   "id": "0e07b4a8-afe3-4b55-b4f4-8c40b66acd15",
   "metadata": {},
   "source": [
    "# Zeros and ones"
   ]
  },
  {
   "cell_type": "code",
   "execution_count": 23,
   "id": "08bce792-9051-4dd2-b8bf-e0c7b6dda8ca",
   "metadata": {},
   "outputs": [
    {
     "data": {
      "text/plain": [
       "tensor([[0., 0., 0., 0., 0., 0., 0., 0., 0.],\n",
       "        [0., 0., 0., 0., 0., 0., 0., 0., 0.],\n",
       "        [0., 0., 0., 0., 0., 0., 0., 0., 0.],\n",
       "        [0., 0., 0., 0., 0., 0., 0., 0., 0.],\n",
       "        [0., 0., 0., 0., 0., 0., 0., 0., 0.],\n",
       "        [0., 0., 0., 0., 0., 0., 0., 0., 0.],\n",
       "        [0., 0., 0., 0., 0., 0., 0., 0., 0.],\n",
       "        [0., 0., 0., 0., 0., 0., 0., 0., 0.],\n",
       "        [0., 0., 0., 0., 0., 0., 0., 0., 0.]])"
      ]
     },
     "execution_count": 23,
     "metadata": {},
     "output_type": "execute_result"
    }
   ],
   "source": [
    "# create a tensor of all zeros\n",
    "\n",
    "zero_tensors = torch.zeros(size=(9,9))\n",
    "zero_tensors"
   ]
  },
  {
   "cell_type": "code",
   "execution_count": 24,
   "id": "3e34a33b-1b83-4b43-9824-ffc82d7acbfc",
   "metadata": {},
   "outputs": [
    {
     "data": {
      "text/plain": [
       "tensor([[1., 1., 1., 1., 1., 1., 1., 1., 1.],\n",
       "        [1., 1., 1., 1., 1., 1., 1., 1., 1.],\n",
       "        [1., 1., 1., 1., 1., 1., 1., 1., 1.],\n",
       "        [1., 1., 1., 1., 1., 1., 1., 1., 1.],\n",
       "        [1., 1., 1., 1., 1., 1., 1., 1., 1.],\n",
       "        [1., 1., 1., 1., 1., 1., 1., 1., 1.],\n",
       "        [1., 1., 1., 1., 1., 1., 1., 1., 1.],\n",
       "        [1., 1., 1., 1., 1., 1., 1., 1., 1.],\n",
       "        [1., 1., 1., 1., 1., 1., 1., 1., 1.]])"
      ]
     },
     "execution_count": 24,
     "metadata": {},
     "output_type": "execute_result"
    }
   ],
   "source": [
    "# create a tensor of all ones\n",
    "ones =  torch.ones(size=(9,9))\n",
    "\n",
    "ones"
   ]
  },
  {
   "cell_type": "code",
   "execution_count": 25,
   "id": "87a7087e-990a-4614-9c79-0233677d9032",
   "metadata": {},
   "outputs": [
    {
     "data": {
      "text/plain": [
       "tensor([[0., 0., 0., 0., 0., 0., 0., 0., 0.],\n",
       "        [0., 0., 0., 0., 0., 0., 0., 0., 0.],\n",
       "        [0., 0., 0., 0., 0., 0., 0., 0., 0.],\n",
       "        [0., 0., 0., 0., 0., 0., 0., 0., 0.],\n",
       "        [0., 0., 0., 0., 0., 0., 0., 0., 0.],\n",
       "        [0., 0., 0., 0., 0., 0., 0., 0., 0.],\n",
       "        [0., 0., 0., 0., 0., 0., 0., 0., 0.],\n",
       "        [0., 0., 0., 0., 0., 0., 0., 0., 0.],\n",
       "        [0., 0., 0., 0., 0., 0., 0., 0., 0.]])"
      ]
     },
     "execution_count": 25,
     "metadata": {},
     "output_type": "execute_result"
    }
   ],
   "source": [
    "ones*zero_tensors"
   ]
  },
  {
   "cell_type": "markdown",
   "id": "677eeeaa-ab00-4a7e-b949-3e82fc48af02",
   "metadata": {},
   "source": [
    "### create a tensor with range of tensors and tensor-like"
   ]
  },
  {
   "cell_type": "code",
   "execution_count": 26,
   "id": "d4b3455b-b726-48ef-8d2b-3d5f9e38f647",
   "metadata": {},
   "outputs": [
    {
     "name": "stderr",
     "output_type": "stream",
     "text": [
      "/tmp/ipykernel_3305/1374888573.py:3: UserWarning: torch.range is deprecated and will be removed in a future release because its behavior is inconsistent with Python's range builtin. Instead, use torch.arange, which produces values in [start, end).\n",
      "  range_tensor = torch.range(0,10)\n"
     ]
    },
    {
     "data": {
      "text/plain": [
       "tensor([ 0.,  1.,  2.,  3.,  4.,  5.,  6.,  7.,  8.,  9., 10.])"
      ]
     },
     "execution_count": 26,
     "metadata": {},
     "output_type": "execute_result"
    }
   ],
   "source": [
    "# Use torch.range\n",
    "\n",
    "range_tensor = torch.range(0,10)\n",
    "range_tensor"
   ]
  },
  {
   "cell_type": "code",
   "execution_count": 27,
   "id": "33fa5387-83a5-4070-9ad2-260539d8c08f",
   "metadata": {},
   "outputs": [
    {
     "data": {
      "text/plain": [
       "tensor([  0,  87, 174, 261, 348, 435, 522, 609, 696, 783, 870, 957])"
      ]
     },
     "execution_count": 27,
     "metadata": {},
     "output_type": "execute_result"
    }
   ],
   "source": [
    "# a range\n",
    "\n",
    "aranget = torch.arange(start=0, end=1000, step=87)\n",
    "aranget"
   ]
  },
  {
   "cell_type": "code",
   "execution_count": 28,
   "id": "7ae79987-85ec-4f09-aaaf-705f7fe0ab85",
   "metadata": {},
   "outputs": [
    {
     "data": {
      "text/plain": [
       "tensor([0, 0, 0, 0, 0, 0, 0, 0, 0, 0, 0, 0])"
      ]
     },
     "execution_count": 28,
     "metadata": {},
     "output_type": "execute_result"
    }
   ],
   "source": [
    "# creating tensor like\n",
    "\n",
    "zeros = torch.zeros_like(input=aranget)\n",
    "zeros"
   ]
  },
  {
   "cell_type": "code",
   "execution_count": 29,
   "id": "57cfd3db-92e3-4210-8abe-f4d770659930",
   "metadata": {},
   "outputs": [
    {
     "data": {
      "text/plain": [
       "tensor([2.9004, 4.1016, 9.0000], dtype=torch.float16)"
      ]
     },
     "execution_count": 29,
     "metadata": {},
     "output_type": "execute_result"
    }
   ],
   "source": [
    "# tesnor data types\n",
    "\n",
    "# Float 32 tensor\n",
    "float_32_tensor = torch.tensor([2.9,4.1,9.0], \n",
    "                               \n",
    "                               dtype=torch.float16, #datatype of the current allocated tensor is set to 16 bit floating integer number\n",
    "                               \n",
    "                               device=None, # what device your tensor on\n",
    "                               \n",
    "                               requires_grad=False # wheather or not to track the gradient with this tensor operation\n",
    ")\n",
    "\n",
    "float_32_tensor"
   ]
  },
  {
   "cell_type": "code",
   "execution_count": 30,
   "id": "85671d93-4832-4f68-ad00-b6ed539b597e",
   "metadata": {},
   "outputs": [
    {
     "data": {
      "text/plain": [
       "torch.float16"
      ]
     },
     "execution_count": 30,
     "metadata": {},
     "output_type": "execute_result"
    }
   ],
   "source": [
    "float_32_tensor.dtype"
   ]
  },
  {
   "cell_type": "code",
   "execution_count": 31,
   "id": "d017abae-ba0b-4696-a060-8f26b2ed7d81",
   "metadata": {},
   "outputs": [
    {
     "data": {
      "text/plain": [
       "tensor([2.9004, 4.1016, 9.0000], dtype=torch.float16)"
      ]
     },
     "execution_count": 31,
     "metadata": {},
     "output_type": "execute_result"
    }
   ],
   "source": [
    "float_16_tensor = float_32_tensor.type(torch.float16)\n",
    "float_16_tensor"
   ]
  },
  {
   "cell_type": "code",
   "execution_count": 32,
   "id": "2dfb4065-0d68-406e-9ad7-80700f511c9e",
   "metadata": {},
   "outputs": [
    {
     "data": {
      "text/plain": [
       "tensor([3, 4, 9])"
      ]
     },
     "execution_count": 32,
     "metadata": {},
     "output_type": "execute_result"
    }
   ],
   "source": [
    "# type casting or tensor typecasting\n",
    "int_32_tensor = torch.tensor([3,4,9],dtype=torch.long)\n",
    "int_32_tensor"
   ]
  },
  {
   "cell_type": "markdown",
   "id": "e644754d-b08e-49cd-b618-c5ff3517ca2c",
   "metadata": {},
   "source": [
    "### Getting information from tensors\n",
    "\n",
    "1. Tensors are not right data type = to do get datatype from a tensor, can use `tensor.dtype`\n",
    "2. Tensor is not right shape = to get shape from a tensor , can use `tensor.shape`\n",
    "3. tensor not on the right device = to get device from a tensor , can use `tensor.device`"
   ]
  },
  {
   "cell_type": "code",
   "execution_count": 33,
   "id": "3047a965-9814-4b12-8bce-4aad5100fa05",
   "metadata": {},
   "outputs": [
    {
     "data": {
      "text/plain": [
       "tensor([[0.4068, 0.5389, 0.1005, 0.1019],\n",
       "        [0.0950, 0.9778, 0.6108, 0.6940],\n",
       "        [0.6690, 0.9524, 0.8076, 0.5627]])"
      ]
     },
     "execution_count": 33,
     "metadata": {},
     "output_type": "execute_result"
    }
   ],
   "source": [
    "# create a tensor\n",
    "some_tensor = torch.rand(3,4)\n",
    "some_tensor"
   ]
  },
  {
   "cell_type": "code",
   "execution_count": 34,
   "id": "f3be8db6-6eeb-4775-83cc-b1e1de0dac1d",
   "metadata": {},
   "outputs": [
    {
     "name": "stdout",
     "output_type": "stream",
     "text": [
      "tensor([[0.4068, 0.5389, 0.1005, 0.1019],\n",
      "        [0.0950, 0.9778, 0.6108, 0.6940],\n",
      "        [0.6690, 0.9524, 0.8076, 0.5627]])\n",
      "data type of tensor: torch.float32\n"
     ]
    }
   ],
   "source": [
    "#Findout details of some tensor\n",
    "print(some_tensor)\n",
    "print(f\"data type of tensor: {some_tensor.dtype}\")"
   ]
  },
  {
   "cell_type": "code",
   "execution_count": 35,
   "id": "6e699c69-4a81-4319-b990-72d04d56f329",
   "metadata": {},
   "outputs": [
    {
     "name": "stdout",
     "output_type": "stream",
     "text": [
      "Shape of the tensor torch.Size([3, 4])\n"
     ]
    }
   ],
   "source": [
    "# shape of the tensor\n",
    "print(f\"Shape of the tensor {some_tensor.shape}\") "
   ]
  },
  {
   "cell_type": "code",
   "execution_count": 36,
   "id": "e90ea3fc-0934-44ff-b8d5-3ee3fd0f483f",
   "metadata": {},
   "outputs": [
    {
     "name": "stdout",
     "output_type": "stream",
     "text": [
      "Size of the tensor torch.Size([3, 4])\n"
     ]
    }
   ],
   "source": [
    "# size of the tensor\n",
    "\n",
    "print(f\"Size of the tensor {some_tensor.size()}\")"
   ]
  },
  {
   "cell_type": "code",
   "execution_count": 37,
   "id": "cfbeb552-6e47-4727-8cbe-73b7c725fdae",
   "metadata": {},
   "outputs": [
    {
     "name": "stdout",
     "output_type": "stream",
     "text": [
      "device on which the tensor is running cpu\n"
     ]
    }
   ],
   "source": [
    "# device finder\n",
    "\n",
    "print(f\"device on which the tensor is running {some_tensor.device}\")"
   ]
  },
  {
   "cell_type": "markdown",
   "id": "46ecfd27-192d-4428-b667-f559970d0eb0",
   "metadata": {},
   "source": [
    "## Manipulating Tensors (Tensor operations)\n",
    "\n",
    "Tensor operations include :\n",
    "\n",
    "* Addition\n",
    "* Subtraction\n",
    "* Multiplication (element- wise)\n",
    "* Division\n",
    "* Matrix Multiplication\n"
   ]
  },
  {
   "cell_type": "code",
   "execution_count": 38,
   "id": "2d5a9f4a-25e6-4630-893c-b1c5cbea5000",
   "metadata": {},
   "outputs": [
    {
     "data": {
      "text/plain": [
       "tensor([11, 12, 13])"
      ]
     },
     "execution_count": 38,
     "metadata": {},
     "output_type": "execute_result"
    }
   ],
   "source": [
    "# create a tensor with addition\n",
    "tensor = torch.tensor([1,2,3])\n",
    "\n",
    "tensor + 10"
   ]
  },
  {
   "cell_type": "code",
   "execution_count": 39,
   "id": "dd5b281b-0163-4710-81df-e75ece1ff43d",
   "metadata": {},
   "outputs": [
    {
     "data": {
      "text/plain": [
       "tensor([10, 20, 30])"
      ]
     },
     "execution_count": 39,
     "metadata": {},
     "output_type": "execute_result"
    }
   ],
   "source": [
    "# mltiply tensor\n",
    "\n",
    "tensor * 10"
   ]
  },
  {
   "cell_type": "code",
   "execution_count": 40,
   "id": "d0c22fde-c5fe-478d-bd41-fdfdc4c42a2c",
   "metadata": {},
   "outputs": [
    {
     "data": {
      "text/plain": [
       "tensor([-9, -8, -7])"
      ]
     },
     "execution_count": 40,
     "metadata": {},
     "output_type": "execute_result"
    }
   ],
   "source": [
    "# subtract\n",
    "\n",
    "tensor - 10"
   ]
  },
  {
   "cell_type": "code",
   "execution_count": 41,
   "id": "bf200e1e-cb76-4bf5-92c7-c71b35c1b8a6",
   "metadata": {},
   "outputs": [
    {
     "data": {
      "text/plain": [
       "tensor([ 46,  92, 138])"
      ]
     },
     "execution_count": 41,
     "metadata": {},
     "output_type": "execute_result"
    }
   ],
   "source": [
    "# tryout  pytorch in-build functions\n",
    "torch.mul(tensor,46)\n"
   ]
  },
  {
   "cell_type": "code",
   "execution_count": 42,
   "id": "a54ad529-ccf5-4358-a710-0ed897c1871b",
   "metadata": {},
   "outputs": [
    {
     "name": "stdout",
     "output_type": "stream",
     "text": [
      "tensor([1, 2, 3]) * tensor([1, 2, 3])\n",
      "Equals: tensor([1, 4, 9])\n"
     ]
    }
   ],
   "source": [
    "# Element wise multiplication\n",
    "\n",
    "print(tensor, \"*\", tensor)\n",
    "print(f\"Equals: {tensor  * tensor}\")"
   ]
  },
  {
   "cell_type": "code",
   "execution_count": 43,
   "id": "68ff8d89-6fe8-4f4e-bed3-e2053eb219b6",
   "metadata": {},
   "outputs": [
    {
     "data": {
      "text/plain": [
       "tensor(14)"
      ]
     },
     "execution_count": 43,
     "metadata": {},
     "output_type": "execute_result"
    }
   ],
   "source": [
    "# Matrix multiplication\n",
    "\n",
    "torch.matmul(tensor, tensor)"
   ]
  },
  {
   "cell_type": "code",
   "execution_count": 44,
   "id": "003d1eb2-3b2a-417f-acf0-5989de477186",
   "metadata": {},
   "outputs": [
    {
     "name": "stdout",
     "output_type": "stream",
     "text": [
      "tensor(14)\n",
      "CPU times: user 1.63 ms, sys: 556 µs, total: 2.18 ms\n",
      "Wall time: 1.42 ms\n"
     ]
    }
   ],
   "source": [
    "%%time\n",
    "\n",
    "value = 0\n",
    "for i in range(len(tensor)):\n",
    "    value += tensor[i] * tensor[i]\n",
    "print(value)"
   ]
  },
  {
   "cell_type": "code",
   "execution_count": 45,
   "id": "003aedbf-393d-4af4-8db5-46d232bfc753",
   "metadata": {},
   "outputs": [
    {
     "name": "stdout",
     "output_type": "stream",
     "text": [
      "CPU times: user 295 µs, sys: 101 µs, total: 396 µs\n",
      "Wall time: 321 µs\n"
     ]
    },
    {
     "data": {
      "text/plain": [
       "tensor(14)"
      ]
     },
     "execution_count": 45,
     "metadata": {},
     "output_type": "execute_result"
    }
   ],
   "source": [
    "%%time\n",
    "\n",
    "torch.matmul(tensor, tensor)"
   ]
  },
  {
   "cell_type": "markdown",
   "id": "5727af04-9917-4a2a-87c3-6777f4e71153",
   "metadata": {},
   "source": [
    "### Matrix multiplication\n",
    "\n",
    "Two main ways of performing multiplication is neural networks and deep learning\n",
    "\n",
    "1. Element-wise multiplication\n",
    "2. Matrix multiplication\n",
    "\n",
    "\n",
    "There are two main rules that performing matrix multiplication needs to satisfy:\n",
    "\n",
    "1. The **inner dimensions** must match:\n",
    "\n",
    "* `(3,2) @ (3,2)` won't work\n",
    "* `(2,3) @ (3,2)` will work\n",
    "* `(3,2) @ (2,3)` will work\n",
    "\n",
    "2. The resulting matrix has the shape of the outer dimension\n",
    "\n",
    "* `(2,3) @ (3,2)` - >  `(2,2)`\n",
    "* `(3,2) @ (2,3)` - > `(3,3)`"
   ]
  },
  {
   "cell_type": "code",
   "execution_count": 46,
   "id": "86ce59fa-1ab6-4661-9506-12c0f862beb8",
   "metadata": {},
   "outputs": [
    {
     "ename": "RuntimeError",
     "evalue": "mat1 and mat2 shapes cannot be multiplied (3x2 and 3x2)",
     "output_type": "error",
     "traceback": [
      "\u001b[0;31m---------------------------------------------------------------------------\u001b[0m",
      "\u001b[0;31mRuntimeError\u001b[0m                              Traceback (most recent call last)",
      "Cell \u001b[0;32mIn[46], line 1\u001b[0m\n\u001b[0;32m----> 1\u001b[0m \u001b[43mtorch\u001b[49m\u001b[38;5;241;43m.\u001b[39;49m\u001b[43mmatmul\u001b[49m\u001b[43m(\u001b[49m\u001b[43mtorch\u001b[49m\u001b[38;5;241;43m.\u001b[39;49m\u001b[43mrand\u001b[49m\u001b[43m(\u001b[49m\u001b[38;5;241;43m3\u001b[39;49m\u001b[43m,\u001b[49m\u001b[38;5;241;43m2\u001b[39;49m\u001b[43m)\u001b[49m\u001b[43m,\u001b[49m\u001b[43m \u001b[49m\u001b[43mtorch\u001b[49m\u001b[38;5;241;43m.\u001b[39;49m\u001b[43mrand\u001b[49m\u001b[43m(\u001b[49m\u001b[38;5;241;43m3\u001b[39;49m\u001b[43m,\u001b[49m\u001b[38;5;241;43m2\u001b[39;49m\u001b[43m)\u001b[49m\u001b[43m)\u001b[49m\n",
      "\u001b[0;31mRuntimeError\u001b[0m: mat1 and mat2 shapes cannot be multiplied (3x2 and 3x2)"
     ]
    }
   ],
   "source": [
    "torch.matmul(torch.rand(3,2), torch.rand(3,2))"
   ]
  },
  {
   "cell_type": "code",
   "execution_count": null,
   "id": "8b413a59-2ad1-4aad-90be-7f715ce5383b",
   "metadata": {},
   "outputs": [],
   "source": [
    "torch.matmul(torch.rand(2,3), torch.rand(3,2))"
   ]
  },
  {
   "cell_type": "code",
   "execution_count": null,
   "id": "b65f3978-01fe-4972-b664-1dae6aa4c0a3",
   "metadata": {},
   "outputs": [],
   "source": [
    "# Shapes for matrix multiplication\n",
    "\n",
    "tensor_A = torch.tensor([\n",
    "    [1,2],\n",
    "    [3,6],\n",
    "    [4,5]])\n",
    "tensor_B = torch.tensor([\n",
    "    [7,8],\n",
    "    [9,11],\n",
    "    [12,13]])\n",
    "\n",
    "torch.matmul(tensor_A, tensor_B)"
   ]
  },
  {
   "cell_type": "markdown",
   "id": "31bf34e6-3c72-4223-9183-05fdb56708d8",
   "metadata": {},
   "source": [
    "We can fix the shape of the current tensor shape using **Transpose**\n",
    "\n",
    "A **transpose** switches the axis or dimensions of a given tensor."
   ]
  },
  {
   "cell_type": "code",
   "execution_count": null,
   "id": "1929ad7b-4fef-4a29-9f53-a99f76c474e5",
   "metadata": {},
   "outputs": [],
   "source": [
    "tensor_B.T"
   ]
  },
  {
   "cell_type": "code",
   "execution_count": null,
   "id": "05d8ebb1-3ac0-4102-9d09-5f25bab4c40a",
   "metadata": {},
   "outputs": [],
   "source": [
    "tensor_B.T.shape"
   ]
  },
  {
   "cell_type": "code",
   "execution_count": null,
   "id": "1fac0c6f-f08d-4be6-92ac-ab1b97574349",
   "metadata": {},
   "outputs": [],
   "source": [
    "torch.mm(tensor_A, tensor_B.T)"
   ]
  },
  {
   "cell_type": "code",
   "execution_count": null,
   "id": "ca0d3cdb-f74c-4241-b97b-d0cfce26e7db",
   "metadata": {},
   "outputs": [],
   "source": [
    "# The matrix tmultiplication operation works when tensor_B is transposed\n",
    "\n",
    "print(f\"origin shapes: tensor_A {tensor_A.shape}, tensor_B = {tensor_B.shape}\")\n",
    "print(f\"New shapes: tensor_A = {tensor_A.shape} (same shape as above ), tensor_B.T = {tensor_B.T.shape}\")\n",
    "print(f\"Multiplying: {tensor_A.shape} @ {tensor_B.T.shape} <- inner dimension must match\")\n",
    "print(\"Output:\\n\")\n",
    "output = torch.mm(tensor_A, tensor_B.T)\n",
    "print(output)\n",
    "print(f\"\\Output shape: {output.shape}\")\n",
    "\n",
    "\n",
    "torch.mm(tensor_A, tensor_B.T).shape"
   ]
  },
  {
   "cell_type": "markdown",
   "id": "87d2630d-3fe2-448b-be02-8cdd234c6cf0",
   "metadata": {},
   "source": [
    "## Finding the min. max , mean , sum , etc(tensor aggregation)"
   ]
  },
  {
   "cell_type": "code",
   "execution_count": null,
   "id": "a8b774c4-6f97-40fe-b778-5425e87f7ad8",
   "metadata": {},
   "outputs": [],
   "source": [
    "# create a tensor\n",
    "\n",
    "x = torch.arange(0, 100, 10)\n",
    "x"
   ]
  },
  {
   "cell_type": "code",
   "execution_count": null,
   "id": "7cade172-ae8b-4d3c-892b-211402d693d0",
   "metadata": {},
   "outputs": [],
   "source": [
    "torch.min(x), torch.max(x)"
   ]
  },
  {
   "cell_type": "code",
   "execution_count": null,
   "id": "daef2749-d540-4986-ab38-4b7a3f719495",
   "metadata": {},
   "outputs": [],
   "source": [
    "# finding the mean - note: the torch.mean() function requires a tensor of float or long datatype to work\n",
    "torch.mean(x.type(torch.float16))"
   ]
  },
  {
   "cell_type": "code",
   "execution_count": null,
   "id": "c2459678-c284-4013-ae6a-03e713c37077",
   "metadata": {},
   "outputs": [],
   "source": [
    "#find the sum\n",
    "\n",
    "torch.sum(x)"
   ]
  },
  {
   "cell_type": "markdown",
   "id": "0de56ff4-0240-4b7a-a3c5-264f4e7b5e9e",
   "metadata": {},
   "source": [
    "## find the positional mean and max"
   ]
  },
  {
   "cell_type": "code",
   "execution_count": null,
   "id": "f7df17a9-2271-483a-b392-c635fa0c5d72",
   "metadata": {},
   "outputs": [],
   "source": [
    "x"
   ]
  },
  {
   "cell_type": "code",
   "execution_count": null,
   "id": "a37b4f52-76b0-416b-8565-9882120ef290",
   "metadata": {},
   "outputs": [],
   "source": [
    "# find the position in  tensor that has minimum arg min \n",
    "x.argmin()"
   ]
  },
  {
   "cell_type": "code",
   "execution_count": null,
   "id": "95b91b65-7cd8-4223-8113-0f30ac17cd80",
   "metadata": {},
   "outputs": [],
   "source": [
    "x[0]"
   ]
  },
  {
   "cell_type": "code",
   "execution_count": null,
   "id": "27ab13ef-7c82-4c32-bb56-558e69d2ebe9",
   "metadata": {},
   "outputs": [],
   "source": [
    "# find the [psotopm om the tensor that has mximum arg maxx.arg]\n",
    "x.argmax()"
   ]
  },
  {
   "cell_type": "code",
   "execution_count": null,
   "id": "20fb0684-09d7-4d95-81a2-a378a60aac71",
   "metadata": {},
   "outputs": [],
   "source": [
    "x[9]"
   ]
  },
  {
   "cell_type": "markdown",
   "id": "9f5dfbfe-d940-4d8f-8b39-4d98183944b0",
   "metadata": {},
   "source": [
    "## Reshaping, statcking , squeezing and unsqueezing tensors"
   ]
  },
  {
   "cell_type": "markdown",
   "id": "4f855577-a48c-4c01-bb48-576bf516bc4e",
   "metadata": {},
   "source": [
    "* Reshaping - reshapes an input tensor to define shape\n",
    "* View - Return a view of an input tensor of certain shape but keep the shape memory as original tensor\n",
    "* Stacking - Combine multiple tensors on top of each other (vstack) or side by side\n",
    "  [hstatck]\n",
    "  * Squeeze - remove all `1` dimension to a target tensor\n",
    "  * Permute - Return a view of the input with dimensions permuted(swapped) in a certain way"
   ]
  },
  {
   "cell_type": "code",
   "execution_count": 48,
   "id": "c1be4878-7ad6-492c-a8f5-88581efc1bed",
   "metadata": {},
   "outputs": [
    {
     "data": {
      "text/plain": [
       "(tensor([1., 2., 3., 4., 5., 6., 7., 8., 9.]), torch.Size([9]))"
      ]
     },
     "execution_count": 48,
     "metadata": {},
     "output_type": "execute_result"
    }
   ],
   "source": [
    "# let's create a tensor\n",
    "\n",
    "x = torch.arange(1., 10.)\n",
    "x, x.shape"
   ]
  },
  {
   "cell_type": "code",
   "execution_count": 49,
   "id": "5042472a-74bb-4459-bb4c-ce3ce8c79c73",
   "metadata": {},
   "outputs": [
    {
     "data": {
      "text/plain": [
       "(tensor([[1., 2., 3., 4., 5., 6., 7., 8., 9.]]), torch.Size([1, 9]))"
      ]
     },
     "execution_count": 49,
     "metadata": {},
     "output_type": "execute_result"
    }
   ],
   "source": [
    "# Add an extra dimension\n",
    "\n",
    "x_reshaped = x.reshape(1, 9)\n",
    "x_reshaped, x_reshaped.shape"
   ]
  },
  {
   "cell_type": "code",
   "execution_count": 50,
   "id": "705c3ed7-6137-4f32-b4b8-de08a6c421b8",
   "metadata": {},
   "outputs": [
    {
     "data": {
      "text/plain": [
       "tensor([[1.],\n",
       "        [2.],\n",
       "        [3.],\n",
       "        [4.],\n",
       "        [5.],\n",
       "        [6.],\n",
       "        [7.],\n",
       "        [8.],\n",
       "        [9.]])"
      ]
     },
     "execution_count": 50,
     "metadata": {},
     "output_type": "execute_result"
    }
   ],
   "source": [
    "x.reshape(9,1)"
   ]
  },
  {
   "cell_type": "code",
   "execution_count": 51,
   "id": "79b76cf6-87cb-4f3d-9f5e-24f3d9031380",
   "metadata": {},
   "outputs": [
    {
     "data": {
      "text/plain": [
       "(tensor([[1., 2., 3., 4., 5., 6., 7., 8., 9.]]), torch.Size([1, 9]))"
      ]
     },
     "execution_count": 51,
     "metadata": {},
     "output_type": "execute_result"
    }
   ],
   "source": [
    "# Change the view\n",
    "\n",
    "z = x.view(1,9)\n",
    "z, z.shape"
   ]
  },
  {
   "cell_type": "code",
   "execution_count": 53,
   "id": "fde36aea-5dd4-4d9d-b63d-23c56b9e21f6",
   "metadata": {},
   "outputs": [
    {
     "data": {
      "text/plain": [
       "(tensor([[5., 2., 3., 4., 5., 6., 7., 8., 9.]]),\n",
       " tensor([5., 2., 3., 4., 5., 6., 7., 8., 9.]))"
      ]
     },
     "execution_count": 53,
     "metadata": {},
     "output_type": "execute_result"
    }
   ],
   "source": [
    "# Changing z change x (because a view of tensor shares the same memory as the origin input)\n",
    "\n",
    "z[:, 0] = 5\n",
    "z, x"
   ]
  },
  {
   "cell_type": "code",
   "execution_count": null,
   "id": "7205fa04-3e3c-43d1-953a-7a23766d0351",
   "metadata": {},
   "outputs": [],
   "source": []
  }
 ],
 "metadata": {
  "kernelspec": {
   "display_name": "Python 3 (ipykernel)",
   "language": "python",
   "name": "python3"
  },
  "language_info": {
   "codemirror_mode": {
    "name": "ipython",
    "version": 3
   },
   "file_extension": ".py",
   "mimetype": "text/x-python",
   "name": "python",
   "nbconvert_exporter": "python",
   "pygments_lexer": "ipython3",
   "version": "3.10.12"
  }
 },
 "nbformat": 4,
 "nbformat_minor": 5
}
