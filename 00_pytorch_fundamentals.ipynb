{
 "cells": [
  {
   "cell_type": "code",
   "execution_count": 1,
   "id": "6660d3b9-4ad1-4f2a-9518-da0544ff2708",
   "metadata": {},
   "outputs": [
    {
     "name": "stdout",
     "output_type": "stream",
     "text": [
      "Setup completed\n",
      "2.0.1+cpu\n"
     ]
    }
   ],
   "source": [
    "import torch\n",
    "import pandas as pd\n",
    "import numpy as np\n",
    "import matplotlib.pyplot as plt\n",
    "\n",
    "print(\"Setup completed\")\n",
    "print(torch.__version__)"
   ]
  },
  {
   "cell_type": "markdown",
   "id": "6d5c76e3-af21-48e1-9dc9-0323489e87f6",
   "metadata": {},
   "source": [
    "## Introduction to tensors"
   ]
  },
  {
   "cell_type": "markdown",
   "id": "421d355a-98bc-46af-9c51-6289a0e08a7b",
   "metadata": {},
   "source": [
    "### Creating tensors\n",
    "- Pytorch tensors are created using torch.Tensor() = [Pytorch.tensor](https://pytorch.org/docs/stable/tensors.html)\n",
    "- \n"
   ]
  },
  {
   "cell_type": "code",
   "execution_count": 2,
   "id": "291bdfce-ae00-4273-8b33-b82124f57f14",
   "metadata": {},
   "outputs": [
    {
     "name": "stdout",
     "output_type": "stream",
     "text": [
      "tensor(7)\n"
     ]
    }
   ],
   "source": [
    "# scalar\n",
    "scalar = torch.tensor(7)\n",
    "print(scalar)"
   ]
  },
  {
   "cell_type": "code",
   "execution_count": 3,
   "id": "8da8cc43-e618-4712-b079-69b7adcaaaf5",
   "metadata": {},
   "outputs": [
    {
     "data": {
      "text/plain": [
       "0"
      ]
     },
     "execution_count": 3,
     "metadata": {},
     "output_type": "execute_result"
    }
   ],
   "source": [
    "# dimension of scalar\n",
    "scalar.ndim"
   ]
  },
  {
   "cell_type": "code",
   "execution_count": 4,
   "id": "6a955fa0-af76-488f-960e-5c635e1984f1",
   "metadata": {},
   "outputs": [
    {
     "data": {
      "text/plain": [
       "7"
      ]
     },
     "execution_count": 4,
     "metadata": {},
     "output_type": "execute_result"
    }
   ],
   "source": [
    "# item in the current scalar run time\n",
    "scalar.item()"
   ]
  },
  {
   "cell_type": "code",
   "execution_count": 5,
   "id": "8e98dc2d-76c7-4718-90f5-bba961ce9336",
   "metadata": {},
   "outputs": [
    {
     "name": "stdout",
     "output_type": "stream",
     "text": [
      "tensor([7, 7])\n"
     ]
    }
   ],
   "source": [
    "# vector\n",
    "\n",
    "vector = torch.tensor([7,7])\n",
    "print(vector)"
   ]
  },
  {
   "cell_type": "code",
   "execution_count": 6,
   "id": "a54c6dc1-75c9-43ef-9757-6061295715da",
   "metadata": {},
   "outputs": [
    {
     "data": {
      "text/plain": [
       "1"
      ]
     },
     "execution_count": 6,
     "metadata": {},
     "output_type": "execute_result"
    }
   ],
   "source": [
    "vector.ndim"
   ]
  },
  {
   "cell_type": "code",
   "execution_count": 7,
   "id": "576572f8-f932-4568-aacf-4eaecd43098a",
   "metadata": {},
   "outputs": [
    {
     "data": {
      "text/plain": [
       "torch.Size([2])"
      ]
     },
     "execution_count": 7,
     "metadata": {},
     "output_type": "execute_result"
    }
   ],
   "source": [
    "vector.shape"
   ]
  },
  {
   "cell_type": "code",
   "execution_count": 8,
   "id": "75323e40-2359-431e-8328-e514f9772c07",
   "metadata": {},
   "outputs": [
    {
     "name": "stdout",
     "output_type": "stream",
     "text": [
      "tensor([[7, 8],\n",
      "        [9, 8]])\n"
     ]
    }
   ],
   "source": [
    "# matrix\n",
    "MATRIX = torch.tensor([\n",
    "    [7,8],\n",
    "    [9,8]\n",
    "])\n",
    "print(MATRIX)"
   ]
  },
  {
   "cell_type": "code",
   "execution_count": 9,
   "id": "eae7821c-cc65-4c73-943f-f01f78cb7137",
   "metadata": {},
   "outputs": [
    {
     "data": {
      "text/plain": [
       "2"
      ]
     },
     "execution_count": 9,
     "metadata": {},
     "output_type": "execute_result"
    }
   ],
   "source": [
    "MATRIX.ndim"
   ]
  },
  {
   "cell_type": "code",
   "execution_count": 10,
   "id": "e791bca5-22f7-432f-93d7-f923f9e42def",
   "metadata": {},
   "outputs": [
    {
     "data": {
      "text/plain": [
       "tensor([9, 8])"
      ]
     },
     "execution_count": 10,
     "metadata": {},
     "output_type": "execute_result"
    }
   ],
   "source": [
    "MATRIX[1]"
   ]
  },
  {
   "cell_type": "code",
   "execution_count": 11,
   "id": "e84dca9c-e1bf-471e-bfa6-81a35b40e454",
   "metadata": {},
   "outputs": [
    {
     "data": {
      "text/plain": [
       "torch.Size([2, 2])"
      ]
     },
     "execution_count": 11,
     "metadata": {},
     "output_type": "execute_result"
    }
   ],
   "source": [
    "MATRIX.shape"
   ]
  },
  {
   "cell_type": "code",
   "execution_count": 12,
   "id": "a30f4cb2-da23-4aa0-b1cb-63539694e8e6",
   "metadata": {},
   "outputs": [
    {
     "name": "stdout",
     "output_type": "stream",
     "text": [
      "tensor([[[1, 2, 3],\n",
      "         [2, 3, 4],\n",
      "         [5, 8, 7]]])\n"
     ]
    }
   ],
   "source": [
    "# TENSOR\n",
    "\n",
    "TENSOR = torch.tensor([\n",
    "    [\n",
    "        [1,2,3],\n",
    "        [2,3,4],\n",
    "        [5,8,7]\n",
    "        \n",
    "    ]\n",
    "        \n",
    "])\n",
    "\n",
    "print(TENSOR)"
   ]
  },
  {
   "cell_type": "code",
   "execution_count": 13,
   "id": "8c685fbd-b03b-4fa7-9e84-037a8129a87e",
   "metadata": {},
   "outputs": [
    {
     "data": {
      "text/plain": [
       "3"
      ]
     },
     "execution_count": 13,
     "metadata": {},
     "output_type": "execute_result"
    }
   ],
   "source": [
    "TENSOR.ndim"
   ]
  },
  {
   "cell_type": "code",
   "execution_count": 14,
   "id": "fef61175-603a-4763-9d07-aeb07a3f3ed2",
   "metadata": {},
   "outputs": [
    {
     "data": {
      "text/plain": [
       "torch.Size([1, 3, 3])"
      ]
     },
     "execution_count": 14,
     "metadata": {},
     "output_type": "execute_result"
    }
   ],
   "source": [
    "TENSOR.shape"
   ]
  },
  {
   "cell_type": "code",
   "execution_count": 15,
   "id": "20906722-a918-4453-a4da-800766ce39d4",
   "metadata": {},
   "outputs": [
    {
     "data": {
      "text/plain": [
       "tensor([[1, 2, 3],\n",
       "        [2, 3, 4],\n",
       "        [5, 8, 7]])"
      ]
     },
     "execution_count": 15,
     "metadata": {},
     "output_type": "execute_result"
    }
   ],
   "source": [
    "TENSOR[0]"
   ]
  },
  {
   "cell_type": "markdown",
   "id": "76658f1f-470a-43b6-8fb8-58de98c7f842",
   "metadata": {},
   "source": [
    "Upper TENSOR.shape represents that we have one 3,3 tensor"
   ]
  },
  {
   "cell_type": "code",
   "execution_count": 16,
   "id": "c167987d-de3c-4d2c-aeb3-98755ad93a6a",
   "metadata": {},
   "outputs": [
    {
     "name": "stdout",
     "output_type": "stream",
     "text": [
      "tensor([[0.0300, 0.6212, 0.0705, 0.7958, 0.5339],\n",
      "        [0.4552, 0.0565, 0.2903, 0.2970, 0.9088],\n",
      "        [0.1395, 0.3215, 0.8547, 0.0629, 0.4627]])\n"
     ]
    }
   ],
   "source": [
    "# random tensor with size with shape (3,4)\n",
    "random_tensor = torch.rand(3,5)\n",
    "print(random_tensor)"
   ]
  },
  {
   "cell_type": "code",
   "execution_count": 17,
   "id": "24d0f88a-d9e3-4a8c-8926-8b4411024561",
   "metadata": {},
   "outputs": [
    {
     "data": {
      "text/plain": [
       "2"
      ]
     },
     "execution_count": 17,
     "metadata": {},
     "output_type": "execute_result"
    }
   ],
   "source": [
    "random_tensor.ndim"
   ]
  },
  {
   "cell_type": "code",
   "execution_count": 18,
   "id": "e2ed0e10-f19a-4de7-8ec4-266c6f9123ea",
   "metadata": {},
   "outputs": [
    {
     "data": {
      "text/plain": [
       "torch.Size([3, 5])"
      ]
     },
     "execution_count": 18,
     "metadata": {},
     "output_type": "execute_result"
    }
   ],
   "source": [
    "random_tensor.shape"
   ]
  },
  {
   "cell_type": "code",
   "execution_count": 19,
   "id": "0de8761e-f1bc-4f34-98f0-ff33abc4592f",
   "metadata": {},
   "outputs": [
    {
     "data": {
      "text/plain": [
       "tensor([[[0.3918, 0.7487, 0.2162,  ..., 0.7359, 0.8667, 0.1385],\n",
       "         [0.0728, 0.0119, 0.0469,  ..., 0.8173, 0.9848, 0.2977],\n",
       "         [0.1290, 0.1871, 0.1090,  ..., 0.8421, 0.2353, 0.4112],\n",
       "         ...,\n",
       "         [0.2067, 0.2112, 0.4464,  ..., 0.0809, 0.0592, 0.5580],\n",
       "         [0.3293, 0.5224, 0.3892,  ..., 0.2698, 0.9589, 0.0312],\n",
       "         [0.7444, 0.6643, 0.7724,  ..., 0.2650, 0.2603, 0.1073]],\n",
       "\n",
       "        [[0.2960, 0.8123, 0.9801,  ..., 0.2686, 0.5600, 0.3316],\n",
       "         [0.8501, 0.5663, 0.2512,  ..., 0.2993, 0.8214, 0.7142],\n",
       "         [0.5946, 0.0182, 0.8162,  ..., 0.2477, 0.7702, 0.5040],\n",
       "         ...,\n",
       "         [0.2146, 0.5880, 0.5868,  ..., 0.0334, 0.2282, 0.8569],\n",
       "         [0.3409, 0.1373, 0.3308,  ..., 0.8913, 0.6929, 0.8422],\n",
       "         [0.2256, 0.7533, 0.6940,  ..., 0.6841, 0.5218, 0.5275]],\n",
       "\n",
       "        [[0.8100, 0.5094, 0.2844,  ..., 0.7686, 0.8933, 0.5496],\n",
       "         [0.9970, 0.8584, 0.7287,  ..., 0.3164, 0.5485, 0.8460],\n",
       "         [0.8872, 0.3157, 0.3946,  ..., 0.5044, 0.7448, 0.6981],\n",
       "         ...,\n",
       "         [0.3722, 0.3198, 0.1770,  ..., 0.8334, 0.8917, 0.1014],\n",
       "         [0.4510, 0.6437, 0.7160,  ..., 0.3205, 0.7393, 0.4913],\n",
       "         [0.6930, 0.9205, 0.3070,  ..., 0.1620, 0.7062, 0.9011]],\n",
       "\n",
       "        ...,\n",
       "\n",
       "        [[0.5502, 0.2826, 0.7290,  ..., 0.9713, 0.1894, 0.5260],\n",
       "         [0.0738, 0.9878, 0.4588,  ..., 0.7760, 0.8725, 0.2280],\n",
       "         [0.5186, 0.7402, 0.9359,  ..., 0.6130, 0.0519, 0.0789],\n",
       "         ...,\n",
       "         [0.4043, 0.7933, 0.5417,  ..., 0.6258, 0.0045, 0.1585],\n",
       "         [0.1126, 0.4290, 0.5065,  ..., 0.9646, 0.0512, 0.8503],\n",
       "         [0.3839, 0.3305, 0.6575,  ..., 0.5349, 0.6935, 0.0336]],\n",
       "\n",
       "        [[0.5433, 0.6013, 0.6606,  ..., 0.0337, 0.6506, 0.1907],\n",
       "         [0.4037, 0.1754, 0.4935,  ..., 0.7252, 0.7163, 0.1920],\n",
       "         [0.8644, 0.1329, 0.4698,  ..., 0.2496, 0.6384, 0.5245],\n",
       "         ...,\n",
       "         [0.6961, 0.6702, 0.3040,  ..., 0.6934, 0.1667, 0.5134],\n",
       "         [0.7428, 0.3163, 0.0122,  ..., 0.2218, 0.4426, 0.3838],\n",
       "         [0.4190, 0.5341, 0.8007,  ..., 0.1604, 0.1824, 0.9160]],\n",
       "\n",
       "        [[0.7849, 0.2644, 0.1127,  ..., 0.1713, 0.3418, 0.0441],\n",
       "         [0.3395, 0.5637, 0.4365,  ..., 0.3361, 0.6231, 0.7194],\n",
       "         [0.5664, 0.0990, 0.8845,  ..., 0.4618, 0.0292, 0.3505],\n",
       "         ...,\n",
       "         [0.8274, 0.3021, 0.5884,  ..., 0.4478, 0.8297, 0.6111],\n",
       "         [0.7443, 0.0151, 0.7842,  ..., 0.2352, 0.7025, 0.2673],\n",
       "         [0.0957, 0.2812, 0.4673,  ..., 0.8931, 0.6368, 0.1813]]])"
      ]
     },
     "execution_count": 19,
     "metadata": {},
     "output_type": "execute_result"
    }
   ],
   "source": [
    "random_tensor1 = torch.rand(10, 20, 40)\n",
    "random_tensor1"
   ]
  },
  {
   "cell_type": "code",
   "execution_count": 20,
   "id": "d5aaec00-89d9-4285-8625-77a3a067d077",
   "metadata": {},
   "outputs": [
    {
     "data": {
      "text/plain": [
       "3"
      ]
     },
     "execution_count": 20,
     "metadata": {},
     "output_type": "execute_result"
    }
   ],
   "source": [
    "random_tensor1.ndim"
   ]
  },
  {
   "cell_type": "code",
   "execution_count": 21,
   "id": "8adf2e55-1135-44c7-bead-4ac8da2617af",
   "metadata": {},
   "outputs": [
    {
     "data": {
      "text/plain": [
       "(torch.Size([224, 223, 3]), 3)"
      ]
     },
     "execution_count": 21,
     "metadata": {},
     "output_type": "execute_result"
    }
   ],
   "source": [
    "# create a random tensor with smilar shape to an image tensor\n",
    "\n",
    "random_image_size_tensor = torch.rand(size=(224,223,3)) # height , width , color channels (R,G.B)\n",
    "random_image_size_tensor.shape, random_image_size_tensor.ndim"
   ]
  },
  {
   "cell_type": "code",
   "execution_count": 22,
   "id": "020b4025-5cf8-482e-bdb1-200a93d7ae38",
   "metadata": {},
   "outputs": [
    {
     "data": {
      "text/plain": [
       "(torch.Size([2233, 2453, 3]), 3)"
      ]
     },
     "execution_count": 22,
     "metadata": {},
     "output_type": "execute_result"
    }
   ],
   "source": [
    "# create a random tensor with smilar shape to an image tensor\n",
    "\n",
    "random_image_size_tensor = torch.rand(size=(2233,2453,3)) # height , width , color channels (R,G.B)\n",
    "random_image_size_tensor.shape, random_image_size_tensor.ndim"
   ]
  },
  {
   "cell_type": "markdown",
   "id": "0e07b4a8-afe3-4b55-b4f4-8c40b66acd15",
   "metadata": {},
   "source": [
    "# Zeros and ones"
   ]
  },
  {
   "cell_type": "code",
   "execution_count": 23,
   "id": "08bce792-9051-4dd2-b8bf-e0c7b6dda8ca",
   "metadata": {},
   "outputs": [
    {
     "data": {
      "text/plain": [
       "tensor([[0., 0., 0., 0., 0., 0., 0., 0., 0.],\n",
       "        [0., 0., 0., 0., 0., 0., 0., 0., 0.],\n",
       "        [0., 0., 0., 0., 0., 0., 0., 0., 0.],\n",
       "        [0., 0., 0., 0., 0., 0., 0., 0., 0.],\n",
       "        [0., 0., 0., 0., 0., 0., 0., 0., 0.],\n",
       "        [0., 0., 0., 0., 0., 0., 0., 0., 0.],\n",
       "        [0., 0., 0., 0., 0., 0., 0., 0., 0.],\n",
       "        [0., 0., 0., 0., 0., 0., 0., 0., 0.],\n",
       "        [0., 0., 0., 0., 0., 0., 0., 0., 0.]])"
      ]
     },
     "execution_count": 23,
     "metadata": {},
     "output_type": "execute_result"
    }
   ],
   "source": [
    "# create a tensor of all zeros\n",
    "\n",
    "zero_tensors = torch.zeros(size=(9,9))\n",
    "zero_tensors"
   ]
  },
  {
   "cell_type": "code",
   "execution_count": 24,
   "id": "3e34a33b-1b83-4b43-9824-ffc82d7acbfc",
   "metadata": {},
   "outputs": [
    {
     "data": {
      "text/plain": [
       "tensor([[1., 1., 1., 1., 1., 1., 1., 1., 1.],\n",
       "        [1., 1., 1., 1., 1., 1., 1., 1., 1.],\n",
       "        [1., 1., 1., 1., 1., 1., 1., 1., 1.],\n",
       "        [1., 1., 1., 1., 1., 1., 1., 1., 1.],\n",
       "        [1., 1., 1., 1., 1., 1., 1., 1., 1.],\n",
       "        [1., 1., 1., 1., 1., 1., 1., 1., 1.],\n",
       "        [1., 1., 1., 1., 1., 1., 1., 1., 1.],\n",
       "        [1., 1., 1., 1., 1., 1., 1., 1., 1.],\n",
       "        [1., 1., 1., 1., 1., 1., 1., 1., 1.]])"
      ]
     },
     "execution_count": 24,
     "metadata": {},
     "output_type": "execute_result"
    }
   ],
   "source": [
    "# create a tensor of all ones\n",
    "ones =  torch.ones(size=(9,9))\n",
    "\n",
    "ones"
   ]
  },
  {
   "cell_type": "code",
   "execution_count": 25,
   "id": "87a7087e-990a-4614-9c79-0233677d9032",
   "metadata": {},
   "outputs": [
    {
     "data": {
      "text/plain": [
       "tensor([[0., 0., 0., 0., 0., 0., 0., 0., 0.],\n",
       "        [0., 0., 0., 0., 0., 0., 0., 0., 0.],\n",
       "        [0., 0., 0., 0., 0., 0., 0., 0., 0.],\n",
       "        [0., 0., 0., 0., 0., 0., 0., 0., 0.],\n",
       "        [0., 0., 0., 0., 0., 0., 0., 0., 0.],\n",
       "        [0., 0., 0., 0., 0., 0., 0., 0., 0.],\n",
       "        [0., 0., 0., 0., 0., 0., 0., 0., 0.],\n",
       "        [0., 0., 0., 0., 0., 0., 0., 0., 0.],\n",
       "        [0., 0., 0., 0., 0., 0., 0., 0., 0.]])"
      ]
     },
     "execution_count": 25,
     "metadata": {},
     "output_type": "execute_result"
    }
   ],
   "source": [
    "ones*zero_tensors"
   ]
  },
  {
   "cell_type": "markdown",
   "id": "677eeeaa-ab00-4a7e-b949-3e82fc48af02",
   "metadata": {},
   "source": [
    "### create a tensor with range of tensors and tensor-like"
   ]
  },
  {
   "cell_type": "code",
   "execution_count": 26,
   "id": "d4b3455b-b726-48ef-8d2b-3d5f9e38f647",
   "metadata": {},
   "outputs": [
    {
     "name": "stderr",
     "output_type": "stream",
     "text": [
      "/tmp/ipykernel_4750/1374888573.py:3: UserWarning: torch.range is deprecated and will be removed in a future release because its behavior is inconsistent with Python's range builtin. Instead, use torch.arange, which produces values in [start, end).\n",
      "  range_tensor = torch.range(0,10)\n"
     ]
    },
    {
     "data": {
      "text/plain": [
       "tensor([ 0.,  1.,  2.,  3.,  4.,  5.,  6.,  7.,  8.,  9., 10.])"
      ]
     },
     "execution_count": 26,
     "metadata": {},
     "output_type": "execute_result"
    }
   ],
   "source": [
    "# Use torch.range\n",
    "\n",
    "range_tensor = torch.range(0,10)\n",
    "range_tensor"
   ]
  },
  {
   "cell_type": "code",
   "execution_count": 27,
   "id": "33fa5387-83a5-4070-9ad2-260539d8c08f",
   "metadata": {},
   "outputs": [
    {
     "data": {
      "text/plain": [
       "tensor([  0,  87, 174, 261, 348, 435, 522, 609, 696, 783, 870, 957])"
      ]
     },
     "execution_count": 27,
     "metadata": {},
     "output_type": "execute_result"
    }
   ],
   "source": [
    "# a range\n",
    "\n",
    "aranget = torch.arange(start=0, end=1000, step=87)\n",
    "aranget"
   ]
  },
  {
   "cell_type": "code",
   "execution_count": 28,
   "id": "7ae79987-85ec-4f09-aaaf-705f7fe0ab85",
   "metadata": {},
   "outputs": [
    {
     "data": {
      "text/plain": [
       "tensor([0, 0, 0, 0, 0, 0, 0, 0, 0, 0, 0, 0])"
      ]
     },
     "execution_count": 28,
     "metadata": {},
     "output_type": "execute_result"
    }
   ],
   "source": [
    "# creating tensor like\n",
    "\n",
    "zeros = torch.zeros_like(input=aranget)\n",
    "zeros"
   ]
  },
  {
   "cell_type": "code",
   "execution_count": 29,
   "id": "57cfd3db-92e3-4210-8abe-f4d770659930",
   "metadata": {},
   "outputs": [
    {
     "data": {
      "text/plain": [
       "tensor([2.9004, 4.1016, 9.0000], dtype=torch.float16)"
      ]
     },
     "execution_count": 29,
     "metadata": {},
     "output_type": "execute_result"
    }
   ],
   "source": [
    "# tesnor data types\n",
    "\n",
    "# Float 32 tensor\n",
    "float_32_tensor = torch.tensor([2.9,4.1,9.0], \n",
    "                               \n",
    "                               dtype=torch.float16, #datatype of the current allocated tensor is set to 16 bit floating integer number\n",
    "                               \n",
    "                               device=None, # what device your tensor on\n",
    "                               \n",
    "                               requires_grad=False # wheather or not to track the gradient with this tensor operation\n",
    ")\n",
    "\n",
    "float_32_tensor"
   ]
  },
  {
   "cell_type": "code",
   "execution_count": 30,
   "id": "85671d93-4832-4f68-ad00-b6ed539b597e",
   "metadata": {},
   "outputs": [
    {
     "data": {
      "text/plain": [
       "torch.float16"
      ]
     },
     "execution_count": 30,
     "metadata": {},
     "output_type": "execute_result"
    }
   ],
   "source": [
    "float_32_tensor.dtype"
   ]
  },
  {
   "cell_type": "code",
   "execution_count": 31,
   "id": "d017abae-ba0b-4696-a060-8f26b2ed7d81",
   "metadata": {},
   "outputs": [
    {
     "data": {
      "text/plain": [
       "tensor([2.9004, 4.1016, 9.0000], dtype=torch.float16)"
      ]
     },
     "execution_count": 31,
     "metadata": {},
     "output_type": "execute_result"
    }
   ],
   "source": [
    "float_16_tensor = float_32_tensor.type(torch.float16)\n",
    "float_16_tensor"
   ]
  },
  {
   "cell_type": "code",
   "execution_count": 32,
   "id": "2dfb4065-0d68-406e-9ad7-80700f511c9e",
   "metadata": {},
   "outputs": [
    {
     "data": {
      "text/plain": [
       "tensor([3, 4, 9])"
      ]
     },
     "execution_count": 32,
     "metadata": {},
     "output_type": "execute_result"
    }
   ],
   "source": [
    "# type casting or tensor typecasting\n",
    "int_32_tensor = torch.tensor([3,4,9],dtype=torch.long)\n",
    "int_32_tensor"
   ]
  },
  {
   "cell_type": "markdown",
   "id": "e644754d-b08e-49cd-b618-c5ff3517ca2c",
   "metadata": {},
   "source": [
    "### Getting information from tensors\n",
    "\n",
    "1. Tensors are not right data type = to do get datatype from a tensor, can use `tensor.dtype`\n",
    "2. Tensor is not right shape = to get shape from a tensor , can use `tensor.shape`\n",
    "3. tensor not on the right device = to get device from a tensor , can use `tensor.device`"
   ]
  },
  {
   "cell_type": "code",
   "execution_count": 33,
   "id": "3047a965-9814-4b12-8bce-4aad5100fa05",
   "metadata": {},
   "outputs": [
    {
     "data": {
      "text/plain": [
       "tensor([[0.4091, 0.2765, 0.1499, 0.8780],\n",
       "        [0.1867, 0.1291, 0.9262, 0.1874],\n",
       "        [0.8258, 0.6627, 0.9046, 0.5186]])"
      ]
     },
     "execution_count": 33,
     "metadata": {},
     "output_type": "execute_result"
    }
   ],
   "source": [
    "# create a tensor\n",
    "some_tensor = torch.rand(3,4)\n",
    "some_tensor"
   ]
  },
  {
   "cell_type": "code",
   "execution_count": 34,
   "id": "f3be8db6-6eeb-4775-83cc-b1e1de0dac1d",
   "metadata": {},
   "outputs": [
    {
     "name": "stdout",
     "output_type": "stream",
     "text": [
      "tensor([[0.4091, 0.2765, 0.1499, 0.8780],\n",
      "        [0.1867, 0.1291, 0.9262, 0.1874],\n",
      "        [0.8258, 0.6627, 0.9046, 0.5186]])\n",
      "data type of tensor: torch.float32\n"
     ]
    }
   ],
   "source": [
    "#Findout details of some tensor\n",
    "print(some_tensor)\n",
    "print(f\"data type of tensor: {some_tensor.dtype}\")"
   ]
  },
  {
   "cell_type": "code",
   "execution_count": 35,
   "id": "6e699c69-4a81-4319-b990-72d04d56f329",
   "metadata": {},
   "outputs": [
    {
     "name": "stdout",
     "output_type": "stream",
     "text": [
      "Shape of the tensor torch.Size([3, 4])\n"
     ]
    }
   ],
   "source": [
    "# shape of the tensor\n",
    "print(f\"Shape of the tensor {some_tensor.shape}\") "
   ]
  },
  {
   "cell_type": "code",
   "execution_count": 36,
   "id": "e90ea3fc-0934-44ff-b8d5-3ee3fd0f483f",
   "metadata": {},
   "outputs": [
    {
     "name": "stdout",
     "output_type": "stream",
     "text": [
      "Size of the tensor torch.Size([3, 4])\n"
     ]
    }
   ],
   "source": [
    "# size of the tensor\n",
    "\n",
    "print(f\"Size of the tensor {some_tensor.size()}\")"
   ]
  },
  {
   "cell_type": "code",
   "execution_count": 37,
   "id": "cfbeb552-6e47-4727-8cbe-73b7c725fdae",
   "metadata": {},
   "outputs": [
    {
     "name": "stdout",
     "output_type": "stream",
     "text": [
      "device on which the tensor is running cpu\n"
     ]
    }
   ],
   "source": [
    "# device finder\n",
    "\n",
    "print(f\"device on which the tensor is running {some_tensor.device}\")"
   ]
  },
  {
   "cell_type": "markdown",
   "id": "46ecfd27-192d-4428-b667-f559970d0eb0",
   "metadata": {},
   "source": [
    "## Manipulating Tensors (Tensor operations)\n",
    "\n",
    "Tensor operations include :\n",
    "\n",
    "* Addition\n",
    "* Subtraction\n",
    "* Multiplication (element- wise)\n",
    "* Division\n",
    "* Matrix Multiplication\n"
   ]
  },
  {
   "cell_type": "code",
   "execution_count": 38,
   "id": "2d5a9f4a-25e6-4630-893c-b1c5cbea5000",
   "metadata": {},
   "outputs": [
    {
     "data": {
      "text/plain": [
       "tensor([11, 12, 13])"
      ]
     },
     "execution_count": 38,
     "metadata": {},
     "output_type": "execute_result"
    }
   ],
   "source": [
    "# create a tensor with addition\n",
    "tensor = torch.tensor([1,2,3])\n",
    "\n",
    "tensor + 10"
   ]
  },
  {
   "cell_type": "code",
   "execution_count": 39,
   "id": "dd5b281b-0163-4710-81df-e75ece1ff43d",
   "metadata": {},
   "outputs": [
    {
     "data": {
      "text/plain": [
       "tensor([10, 20, 30])"
      ]
     },
     "execution_count": 39,
     "metadata": {},
     "output_type": "execute_result"
    }
   ],
   "source": [
    "# mltiply tensor\n",
    "\n",
    "tensor * 10"
   ]
  },
  {
   "cell_type": "code",
   "execution_count": 40,
   "id": "d0c22fde-c5fe-478d-bd41-fdfdc4c42a2c",
   "metadata": {},
   "outputs": [
    {
     "data": {
      "text/plain": [
       "tensor([-9, -8, -7])"
      ]
     },
     "execution_count": 40,
     "metadata": {},
     "output_type": "execute_result"
    }
   ],
   "source": [
    "# subtract\n",
    "\n",
    "tensor - 10"
   ]
  },
  {
   "cell_type": "code",
   "execution_count": 41,
   "id": "bf200e1e-cb76-4bf5-92c7-c71b35c1b8a6",
   "metadata": {},
   "outputs": [
    {
     "data": {
      "text/plain": [
       "tensor([ 46,  92, 138])"
      ]
     },
     "execution_count": 41,
     "metadata": {},
     "output_type": "execute_result"
    }
   ],
   "source": [
    "# tryout  pytorch in-build functions\n",
    "torch.mul(tensor,46)\n"
   ]
  },
  {
   "cell_type": "code",
   "execution_count": 42,
   "id": "a54ad529-ccf5-4358-a710-0ed897c1871b",
   "metadata": {},
   "outputs": [
    {
     "name": "stdout",
     "output_type": "stream",
     "text": [
      "tensor([1, 2, 3]) * tensor([1, 2, 3])\n",
      "Equals: tensor([1, 4, 9])\n"
     ]
    }
   ],
   "source": [
    "# Element wise multiplication\n",
    "\n",
    "print(tensor, \"*\", tensor)\n",
    "print(f\"Equals: {tensor  * tensor}\")"
   ]
  },
  {
   "cell_type": "code",
   "execution_count": 43,
   "id": "68ff8d89-6fe8-4f4e-bed3-e2053eb219b6",
   "metadata": {},
   "outputs": [
    {
     "data": {
      "text/plain": [
       "tensor(14)"
      ]
     },
     "execution_count": 43,
     "metadata": {},
     "output_type": "execute_result"
    }
   ],
   "source": [
    "# Matrix multiplication\n",
    "\n",
    "torch.matmul(tensor, tensor)"
   ]
  },
  {
   "cell_type": "code",
   "execution_count": 44,
   "id": "003d1eb2-3b2a-417f-acf0-5989de477186",
   "metadata": {},
   "outputs": [
    {
     "name": "stdout",
     "output_type": "stream",
     "text": [
      "tensor(14)\n",
      "CPU times: user 2.24 ms, sys: 602 µs, total: 2.84 ms\n",
      "Wall time: 1.96 ms\n"
     ]
    }
   ],
   "source": [
    "%%time\n",
    "\n",
    "value = 0\n",
    "for i in range(len(tensor)):\n",
    "    value += tensor[i] * tensor[i]\n",
    "print(value)"
   ]
  },
  {
   "cell_type": "code",
   "execution_count": 45,
   "id": "003aedbf-393d-4af4-8db5-46d232bfc753",
   "metadata": {},
   "outputs": [
    {
     "name": "stdout",
     "output_type": "stream",
     "text": [
      "CPU times: user 414 µs, sys: 111 µs, total: 525 µs\n",
      "Wall time: 430 µs\n"
     ]
    },
    {
     "data": {
      "text/plain": [
       "tensor(14)"
      ]
     },
     "execution_count": 45,
     "metadata": {},
     "output_type": "execute_result"
    }
   ],
   "source": [
    "%%time\n",
    "\n",
    "torch.matmul(tensor, tensor)"
   ]
  },
  {
   "cell_type": "markdown",
   "id": "5727af04-9917-4a2a-87c3-6777f4e71153",
   "metadata": {},
   "source": [
    "### Matrix multiplication\n",
    "\n",
    "Two main ways of performing multiplication is neural networks and deep learning\n",
    "\n",
    "1. Element-wise multiplication\n",
    "2. Matrix multiplication\n",
    "\n",
    "\n",
    "There are two main rules that performing matrix multiplication needs to satisfy:\n",
    "\n",
    "1. The **inner dimensions** must match:\n",
    "\n",
    "* `(3,2) @ (3,2)` won't work\n",
    "* `(2,3) @ (3,2)` will work\n",
    "* `(3,2) @ (2,3)` will work\n",
    "\n",
    "2. The resulting matrix has the shape of the outer dimension\n",
    "\n",
    "* `(2,3) @ (3,2)` - >  `(2,2)`\n",
    "* `(3,2) @ (2,3)` - > `(3,3)`"
   ]
  },
  {
   "cell_type": "code",
   "execution_count": 46,
   "id": "86ce59fa-1ab6-4661-9506-12c0f862beb8",
   "metadata": {},
   "outputs": [
    {
     "ename": "RuntimeError",
     "evalue": "mat1 and mat2 shapes cannot be multiplied (3x2 and 3x2)",
     "output_type": "error",
     "traceback": [
      "\u001b[0;31m---------------------------------------------------------------------------\u001b[0m",
      "\u001b[0;31mRuntimeError\u001b[0m                              Traceback (most recent call last)",
      "Cell \u001b[0;32mIn[46], line 1\u001b[0m\n\u001b[0;32m----> 1\u001b[0m \u001b[43mtorch\u001b[49m\u001b[38;5;241;43m.\u001b[39;49m\u001b[43mmatmul\u001b[49m\u001b[43m(\u001b[49m\u001b[43mtorch\u001b[49m\u001b[38;5;241;43m.\u001b[39;49m\u001b[43mrand\u001b[49m\u001b[43m(\u001b[49m\u001b[38;5;241;43m3\u001b[39;49m\u001b[43m,\u001b[49m\u001b[38;5;241;43m2\u001b[39;49m\u001b[43m)\u001b[49m\u001b[43m,\u001b[49m\u001b[43m \u001b[49m\u001b[43mtorch\u001b[49m\u001b[38;5;241;43m.\u001b[39;49m\u001b[43mrand\u001b[49m\u001b[43m(\u001b[49m\u001b[38;5;241;43m3\u001b[39;49m\u001b[43m,\u001b[49m\u001b[38;5;241;43m2\u001b[39;49m\u001b[43m)\u001b[49m\u001b[43m)\u001b[49m\n",
      "\u001b[0;31mRuntimeError\u001b[0m: mat1 and mat2 shapes cannot be multiplied (3x2 and 3x2)"
     ]
    }
   ],
   "source": [
    "torch.matmul(torch.rand(3,2), torch.rand(3,2))"
   ]
  },
  {
   "cell_type": "code",
   "execution_count": null,
   "id": "8b413a59-2ad1-4aad-90be-7f715ce5383b",
   "metadata": {},
   "outputs": [],
   "source": [
    "torch.matmul(torch.rand(2,3), torch.rand(3,2))"
   ]
  },
  {
   "cell_type": "code",
   "execution_count": null,
   "id": "b65f3978-01fe-4972-b664-1dae6aa4c0a3",
   "metadata": {},
   "outputs": [],
   "source": [
    "# Shapes for matrix multiplication\n",
    "\n",
    "tensor_A = torch.tensor([\n",
    "    [1,2],\n",
    "    [3,6],\n",
    "    [4,5]])\n",
    "tensor_B = torch.tensor([\n",
    "    [7,8],\n",
    "    [9,11],\n",
    "    [12,13]])\n",
    "\n",
    "torch.matmul(tensor_A, tensor_B)"
   ]
  },
  {
   "cell_type": "markdown",
   "id": "31bf34e6-3c72-4223-9183-05fdb56708d8",
   "metadata": {},
   "source": [
    "We can fix the shape of the current tensor shape using **Transpose**\n",
    "\n",
    "A **transpose** switches the axis or dimensions of a given tensor."
   ]
  },
  {
   "cell_type": "code",
   "execution_count": null,
   "id": "1929ad7b-4fef-4a29-9f53-a99f76c474e5",
   "metadata": {},
   "outputs": [],
   "source": [
    "tensor_B.T"
   ]
  },
  {
   "cell_type": "code",
   "execution_count": null,
   "id": "05d8ebb1-3ac0-4102-9d09-5f25bab4c40a",
   "metadata": {},
   "outputs": [],
   "source": [
    "tensor_B.T.shape"
   ]
  },
  {
   "cell_type": "code",
   "execution_count": null,
   "id": "1fac0c6f-f08d-4be6-92ac-ab1b97574349",
   "metadata": {},
   "outputs": [],
   "source": [
    "torch.mm(tensor_A, tensor_B.T)"
   ]
  },
  {
   "cell_type": "code",
   "execution_count": null,
   "id": "ca0d3cdb-f74c-4241-b97b-d0cfce26e7db",
   "metadata": {},
   "outputs": [],
   "source": [
    "# The matrix tmultiplication operation works when tensor_B is transposed\n",
    "\n",
    "print(f\"origin shapes: tensor_A {tensor_A.shape}, tensor_B = {tensor_B.shape}\")\n",
    "print(f\"New shapes: tensor_A = {tensor_A.shape} (same shape as above ), tensor_B.T = {tensor_B.T.shape}\")\n",
    "print(f\"Multiplying: {tensor_A.shape} @ {tensor_B.T.shape} <- inner dimension must match\")\n",
    "print(\"Output:\\n\")\n",
    "output = torch.mm(tensor_A, tensor_B.T)\n",
    "print(output)\n",
    "print(f\"\\Output shape: {output.shape}\")\n",
    "\n",
    "\n",
    "torch.mm(tensor_A, tensor_B.T).shape"
   ]
  },
  {
   "cell_type": "markdown",
   "id": "87d2630d-3fe2-448b-be02-8cdd234c6cf0",
   "metadata": {},
   "source": [
    "## Finding the min. max , mean , sum , etc(tensor aggregation)"
   ]
  },
  {
   "cell_type": "code",
   "execution_count": null,
   "id": "a8b774c4-6f97-40fe-b778-5425e87f7ad8",
   "metadata": {},
   "outputs": [],
   "source": [
    "# create a tensor\n",
    "\n",
    "x = torch.arange(0, 100, 10)\n",
    "x"
   ]
  },
  {
   "cell_type": "code",
   "execution_count": null,
   "id": "7cade172-ae8b-4d3c-892b-211402d693d0",
   "metadata": {},
   "outputs": [],
   "source": [
    "torch.min(x), torch.max(x)"
   ]
  },
  {
   "cell_type": "code",
   "execution_count": null,
   "id": "daef2749-d540-4986-ab38-4b7a3f719495",
   "metadata": {},
   "outputs": [],
   "source": [
    "# finding the mean - note: the torch.mean() function requires a tensor of float or long datatype to work\n",
    "torch.mean(x.type(torch.float16))"
   ]
  },
  {
   "cell_type": "code",
   "execution_count": null,
   "id": "c2459678-c284-4013-ae6a-03e713c37077",
   "metadata": {},
   "outputs": [],
   "source": [
    "#find the sum\n",
    "\n",
    "torch.sum(x)"
   ]
  },
  {
   "cell_type": "markdown",
   "id": "0de56ff4-0240-4b7a-a3c5-264f4e7b5e9e",
   "metadata": {},
   "source": [
    "## find the positional mean and max"
   ]
  },
  {
   "cell_type": "code",
   "execution_count": null,
   "id": "f7df17a9-2271-483a-b392-c635fa0c5d72",
   "metadata": {},
   "outputs": [],
   "source": [
    "x"
   ]
  },
  {
   "cell_type": "code",
   "execution_count": null,
   "id": "a37b4f52-76b0-416b-8565-9882120ef290",
   "metadata": {},
   "outputs": [],
   "source": [
    "# find the position in  tensor that has minimum arg min \n",
    "x.argmin()"
   ]
  },
  {
   "cell_type": "code",
   "execution_count": null,
   "id": "95b91b65-7cd8-4223-8113-0f30ac17cd80",
   "metadata": {},
   "outputs": [],
   "source": [
    "x[0]"
   ]
  },
  {
   "cell_type": "code",
   "execution_count": null,
   "id": "27ab13ef-7c82-4c32-bb56-558e69d2ebe9",
   "metadata": {},
   "outputs": [],
   "source": [
    "# find the [psotopm om the tensor that has mximum arg maxx.arg]\n",
    "x.argmax()"
   ]
  },
  {
   "cell_type": "code",
   "execution_count": null,
   "id": "20fb0684-09d7-4d95-81a2-a378a60aac71",
   "metadata": {},
   "outputs": [],
   "source": [
    "x[9]"
   ]
  },
  {
   "cell_type": "markdown",
   "id": "9f5dfbfe-d940-4d8f-8b39-4d98183944b0",
   "metadata": {},
   "source": [
    "## Reshaping, statcking , squeezing and unsqueezing tensors"
   ]
  },
  {
   "cell_type": "markdown",
   "id": "4f855577-a48c-4c01-bb48-576bf516bc4e",
   "metadata": {},
   "source": [
    "* Reshaping - reshapes an input tensor to define shape\n",
    "* View - Return a view of an input tensor of certain shape but keep the shape memory as original tensor\n",
    "* Stacking - Combine multiple tensors on top of each other (vstack) or side by side\n",
    "  [hstatck]\n",
    "  * Squeeze - remove all `1` dimension to a target tensor\n",
    "  * Permute - Return a view of the input with dimensions permuted(swapped) in a certain way"
   ]
  },
  {
   "cell_type": "code",
   "execution_count": 52,
   "id": "c1be4878-7ad6-492c-a8f5-88581efc1bed",
   "metadata": {},
   "outputs": [
    {
     "data": {
      "text/plain": [
       "(tensor([1., 2., 3., 4., 5., 6., 7., 8., 9.]), torch.Size([9]))"
      ]
     },
     "execution_count": 52,
     "metadata": {},
     "output_type": "execute_result"
    }
   ],
   "source": [
    "# let's create a tensor\n",
    "\n",
    "x = torch.arange(1., 10.)\n",
    "x, x.shape"
   ]
  },
  {
   "cell_type": "code",
   "execution_count": 53,
   "id": "5042472a-74bb-4459-bb4c-ce3ce8c79c73",
   "metadata": {},
   "outputs": [
    {
     "data": {
      "text/plain": [
       "(tensor([[1., 2., 3., 4., 5., 6., 7., 8., 9.]]), torch.Size([1, 9]))"
      ]
     },
     "execution_count": 53,
     "metadata": {},
     "output_type": "execute_result"
    }
   ],
   "source": [
    "# Add an extra dimension\n",
    "\n",
    "x_reshaped = x.reshape(1, 9)\n",
    "x_reshaped, x_reshaped.shape"
   ]
  },
  {
   "cell_type": "code",
   "execution_count": 54,
   "id": "705c3ed7-6137-4f32-b4b8-de08a6c421b8",
   "metadata": {},
   "outputs": [
    {
     "data": {
      "text/plain": [
       "tensor([[1.],\n",
       "        [2.],\n",
       "        [3.],\n",
       "        [4.],\n",
       "        [5.],\n",
       "        [6.],\n",
       "        [7.],\n",
       "        [8.],\n",
       "        [9.]])"
      ]
     },
     "execution_count": 54,
     "metadata": {},
     "output_type": "execute_result"
    }
   ],
   "source": [
    "x.reshape(9,1)"
   ]
  },
  {
   "cell_type": "code",
   "execution_count": 55,
   "id": "79b76cf6-87cb-4f3d-9f5e-24f3d9031380",
   "metadata": {},
   "outputs": [
    {
     "data": {
      "text/plain": [
       "(tensor([[1., 2., 3., 4., 5., 6., 7., 8., 9.]]), torch.Size([1, 9]))"
      ]
     },
     "execution_count": 55,
     "metadata": {},
     "output_type": "execute_result"
    }
   ],
   "source": [
    "# Change the view\n",
    "\n",
    "z = x.view(1,9)\n",
    "z, z.shape"
   ]
  },
  {
   "cell_type": "code",
   "execution_count": 56,
   "id": "fde36aea-5dd4-4d9d-b63d-23c56b9e21f6",
   "metadata": {},
   "outputs": [
    {
     "data": {
      "text/plain": [
       "(tensor([[5., 2., 3., 4., 5., 6., 7., 8., 9.]]),\n",
       " tensor([5., 2., 3., 4., 5., 6., 7., 8., 9.]))"
      ]
     },
     "execution_count": 56,
     "metadata": {},
     "output_type": "execute_result"
    }
   ],
   "source": [
    "# Changing z change x (because a view of tensor shares the same memory as the origin input)\n",
    "\n",
    "z[:, 0] = 5\n",
    "z, x"
   ]
  },
  {
   "cell_type": "code",
   "execution_count": 57,
   "id": "7205fa04-3e3c-43d1-953a-7a23766d0351",
   "metadata": {},
   "outputs": [
    {
     "data": {
      "text/plain": [
       "tensor([[5., 5., 5., 5.],\n",
       "        [2., 2., 2., 2.],\n",
       "        [3., 3., 3., 3.],\n",
       "        [4., 4., 4., 4.],\n",
       "        [5., 5., 5., 5.],\n",
       "        [6., 6., 6., 6.],\n",
       "        [7., 7., 7., 7.],\n",
       "        [8., 8., 8., 8.],\n",
       "        [9., 9., 9., 9.]])"
      ]
     },
     "execution_count": 57,
     "metadata": {},
     "output_type": "execute_result"
    }
   ],
   "source": [
    "# Stack tensors on top of each other \n",
    "\n",
    "x_stacked  = torch.stack([x,x,x,x], dim=1) # it only supports single dimmension\n",
    "\n",
    "x_stacked"
   ]
  },
  {
   "cell_type": "code",
   "execution_count": 58,
   "id": "0a7f40e8-cb9e-44a3-b6d2-8bcee653737a",
   "metadata": {},
   "outputs": [],
   "source": [
    "# torch.squeeze() - remove all single dimensions from a targate tensor\n",
    "\n",
    "x = torch.zeros(2, 1, 2, 1, 2)\n",
    "x.size()\n",
    "y = torch.squeeze(x)\n",
    "y.size()\n",
    "y = torch.squeeze(x, 0)\n",
    "y.size()\n",
    "y = torch.squeeze(x, 1)\n",
    "y.size()\n",
    "y = torch.squeeze(x, (1, 2, 3))"
   ]
  },
  {
   "cell_type": "code",
   "execution_count": 65,
   "id": "c1a11f84-6d90-4dba-9a04-d15638b86d26",
   "metadata": {},
   "outputs": [
    {
     "name": "stdout",
     "output_type": "stream",
     "text": [
      "Previous tensor: tensor([[5., 2., 3., 4., 5., 6., 7., 8., 9.]])\n",
      "Previous shape: torch.Size([1, 9])\n",
      "\n",
      " New tensor: tensor([5., 2., 3., 4., 5., 6., 7., 8., 9.])\n",
      "\n",
      "New shape: torch.Size([9])\n"
     ]
    }
   ],
   "source": [
    "print(f\"Previous tensor: {x_reshaped}\")\n",
    "print(f\"Previous shape: {x_reshaped.shape}\")\n",
    "\n",
    "#Remove extra dimensions from x_reshaped\n",
    "\n",
    "x_squeezed = x_reshaped.squeeze()\n",
    "print(f\"\\n New tensor: {x_squeezed}\")\n",
    "\n",
    "print(f\"\\nNew shape: {x_squeezed.shape}\")"
   ]
  },
  {
   "cell_type": "code",
   "execution_count": null,
   "id": "9bc87788-9d10-43b4-a029-bd698147923a",
   "metadata": {},
   "outputs": [],
   "source": []
  },
  {
   "cell_type": "code",
   "execution_count": 60,
   "id": "bb3c6d68-8f45-40bd-a7fa-d6d3094d35c6",
   "metadata": {},
   "outputs": [
    {
     "data": {
      "text/plain": [
       "tensor([5., 2., 3., 4., 5., 6., 7., 8., 9.])"
      ]
     },
     "execution_count": 60,
     "metadata": {},
     "output_type": "execute_result"
    }
   ],
   "source": [
    "x_reshaped.squeeze()"
   ]
  },
  {
   "cell_type": "code",
   "execution_count": 61,
   "id": "28055e94-cddb-4725-afb7-015ba4de4abe",
   "metadata": {},
   "outputs": [
    {
     "data": {
      "text/plain": [
       "torch.Size([9])"
      ]
     },
     "execution_count": 61,
     "metadata": {},
     "output_type": "execute_result"
    }
   ],
   "source": [
    "x_reshaped.squeeze().shape"
   ]
  },
  {
   "cell_type": "code",
   "execution_count": 69,
   "id": "d6817485-5bdf-4b6b-8e3c-d5830ad7d81c",
   "metadata": {},
   "outputs": [
    {
     "name": "stdout",
     "output_type": "stream",
     "text": [
      "Squeezed version of the tensor -> tensor([5., 2., 3., 4., 5., 6., 7., 8., 9.])\n",
      "Previous target : tensor([5., 2., 3., 4., 5., 6., 7., 8., 9.])\n",
      "Previous shape: torch.Size([9])\n",
      "\n",
      "New tensor: tensor([[5., 2., 3., 4., 5., 6., 7., 8., 9.]])\n"
     ]
    }
   ],
   "source": [
    "# torch unsqeeze - adds a signle dimension to a target tensor at a specific dim (dimension)\n",
    "\n",
    "print(f\"Squeezed version of the tensor -> {x_squeezed}\")\n",
    "\n",
    "print(f\"Previous target : {x_squeezed}\")\n",
    "\n",
    "print(f\"Previous shape: {x_squeezed.shape}\")\n",
    "\n",
    "\n",
    "# Add an extra dimension with unsqeezed\n",
    "\n",
    "x_unsquzeed = x_squeezed.unsqueeze(dim=0)\n",
    "\n",
    "print(f\"\\nNew tensor: {x_unsquzeed}\")\n",
    "\n",
    "print(f\"New shape: {x_unsquzeed.shape}\")\n"
   ]
  },
  {
   "cell_type": "code",
   "execution_count": 72,
   "id": "8a49f0a5-1a05-443a-9c80-f31f96fbf4cd",
   "metadata": {},
   "outputs": [
    {
     "name": "stdout",
     "output_type": "stream",
     "text": [
      "previous shape -> torch.Size([224, 224, 3])\n",
      "\n",
      "New permuted shape -> torch.Size([3, 224, 224])\n"
     ]
    }
   ],
   "source": [
    "# torch.permute - rearrages the dimensons of a target tensor in a specified order\n",
    "\n",
    "x_original = torch.randn(size=(224,224,3)) # [height, width, color_channels]\n",
    "x_original\n",
    "\n",
    "# Permute the origin tensor to rearrange the axis (or dim)\n",
    "\n",
    "x_permuted = x_original.permute(2,0,1) # shifts  axis 0-> 1, 1->2 , 2->0\n",
    "\n",
    "print(f\"previous shape -> {x_original.shape}\")\n",
    "\n",
    "print(f\"\\nNew permuted shape -> {x_permuted.shape}\") # [color channels , height , width]"
   ]
  },
  {
   "cell_type": "markdown",
   "id": "32fb70ec-34d6-4b6b-96a7-ea9061ee0512",
   "metadata": {},
   "source": [
    "## Indexing (selecting data from tensors)\n",
    "\n",
    "Indexing with pytorch is similar to indexing with Numpy"
   ]
  },
  {
   "cell_type": "code",
   "execution_count": 4,
   "id": "57b28b64-8c8e-4153-9a2f-da64c735f4b5",
   "metadata": {},
   "outputs": [
    {
     "data": {
      "text/plain": [
       "(tensor([[[1, 2, 3],\n",
       "          [4, 5, 6],\n",
       "          [7, 8, 9]]]),\n",
       " torch.Size([1, 3, 3]))"
      ]
     },
     "execution_count": 4,
     "metadata": {},
     "output_type": "execute_result"
    }
   ],
   "source": [
    "# creating a tensor\n",
    "\n",
    "import torch\n",
    "\n",
    "x = torch.arange(1, 10).reshape(1,3,3)\n",
    "x, x.shape"
   ]
  },
  {
   "cell_type": "code",
   "execution_count": 5,
   "id": "902b991a-15fe-4138-9748-5119bc38a020",
   "metadata": {},
   "outputs": [
    {
     "data": {
      "text/plain": [
       "tensor([[1, 2, 3],\n",
       "        [4, 5, 6],\n",
       "        [7, 8, 9]])"
      ]
     },
     "execution_count": 5,
     "metadata": {},
     "output_type": "execute_result"
    }
   ],
   "source": [
    "# index on new tensor\n",
    "\n",
    "x[0]"
   ]
  },
  {
   "cell_type": "code",
   "execution_count": 6,
   "id": "3593ea4e-d21a-498b-866d-07df4e81fbc8",
   "metadata": {},
   "outputs": [
    {
     "data": {
      "text/plain": [
       "tensor([1, 2, 3])"
      ]
     },
     "execution_count": 6,
     "metadata": {},
     "output_type": "execute_result"
    }
   ],
   "source": [
    "# Index on the middle bracket \n",
    "\n",
    "x[0][0]"
   ]
  },
  {
   "cell_type": "code",
   "execution_count": 7,
   "id": "c6296456-10d1-42f8-b108-11ad1d13415b",
   "metadata": {},
   "outputs": [
    {
     "data": {
      "text/plain": [
       "tensor(1)"
      ]
     },
     "execution_count": 7,
     "metadata": {},
     "output_type": "execute_result"
    }
   ],
   "source": [
    "# indexing on most inner bracket (last dimmension)\n",
    "\n",
    "x[0][0][0]"
   ]
  },
  {
   "cell_type": "code",
   "execution_count": 9,
   "id": "7686d48f-afee-4ba3-b322-03ec442c02cd",
   "metadata": {
    "scrolled": true
   },
   "outputs": [
    {
     "data": {
      "text/plain": [
       "tensor(9)"
      ]
     },
     "execution_count": 9,
     "metadata": {},
     "output_type": "execute_result"
    }
   ],
   "source": [
    "# finding number 9 using manual indexing\n",
    "x[0][2][2] # here 0 is the total dim of the matrix or the singular matrix and there after row wise and on [2] index there is our target  out and there after on [2] position on [x] axis element will be 9 "
   ]
  },
  {
   "cell_type": "code",
   "execution_count": 88,
   "id": "ec3f8b99-f486-4e87-b0da-2506c070bddc",
   "metadata": {},
   "outputs": [
    {
     "data": {
      "text/plain": [
       "tensor([[1, 2, 3]])"
      ]
     },
     "execution_count": 88,
     "metadata": {},
     "output_type": "execute_result"
    }
   ],
   "source": [
    "# You can also use \":\" to select \"all\" of a target dimension\n",
    "\n",
    "x[:, 0]"
   ]
  },
  {
   "cell_type": "code",
   "execution_count": 10,
   "id": "1565cc2a-326c-44ca-b815-879f7e250f45",
   "metadata": {},
   "outputs": [
    {
     "data": {
      "text/plain": [
       "tensor([[2, 5, 8]])"
      ]
     },
     "execution_count": 10,
     "metadata": {},
     "output_type": "execute_result"
    }
   ],
   "source": [
    "# Get all values of 0 th and 1st dimensions but ony index 1 of 2 dimension\n",
    "x[:,:,1]"
   ]
  },
  {
   "cell_type": "code",
   "execution_count": 11,
   "id": "888c7a4a-4023-40a8-88d8-969879a19bf9",
   "metadata": {},
   "outputs": [
    {
     "data": {
      "text/plain": [
       "tensor([5])"
      ]
     },
     "execution_count": 11,
     "metadata": {},
     "output_type": "execute_result"
    }
   ],
   "source": [
    "# get all values of 0 dimension but only the 1 index value of 1st and 2nd dimension\n",
    "\n",
    "x[:,1,1]"
   ]
  },
  {
   "cell_type": "code",
   "execution_count": 13,
   "id": "2ffa8c8d-05f3-4e5d-9856-fe8e7996bd89",
   "metadata": {},
   "outputs": [
    {
     "data": {
      "text/plain": [
       "tensor([1, 2, 3])"
      ]
     },
     "execution_count": 13,
     "metadata": {},
     "output_type": "execute_result"
    }
   ],
   "source": [
    "x[0,0,:]"
   ]
  },
  {
   "cell_type": "code",
   "execution_count": 14,
   "id": "acbb0789-ace0-4698-8c2f-7a6701e63381",
   "metadata": {},
   "outputs": [
    {
     "name": "stdout",
     "output_type": "stream",
     "text": [
      "tensor([[3, 6, 9]])\n"
     ]
    }
   ],
   "source": [
    "# index on x to return [3:6:9]\n",
    "\n",
    "print(x[:,:,2])"
   ]
  },
  {
   "cell_type": "code",
   "execution_count": 19,
   "id": "6fdd10b7-803b-485c-a4e8-b58ae5fe992f",
   "metadata": {},
   "outputs": [
    {
     "data": {
      "text/plain": [
       "(array([1., 2., 3., 4., 5., 6., 7.]),\n",
       " tensor([1., 2., 3., 4., 5., 6., 7.], dtype=torch.float64))"
      ]
     },
     "execution_count": 19,
     "metadata": {},
     "output_type": "execute_result"
    }
   ],
   "source": [
    "# Numpy array to tensor\n",
    "\n",
    "import torch\n",
    "import numpy as np\n",
    "\n",
    "array = np.arange(1.0,8.0)\n",
    "tensor = torch.from_numpy(array) #warning: when converting from numpy -> pytorch, pytorch reflection numpy default datatype of float64 unless specified otherwise\n",
    "\n",
    "array, tensor"
   ]
  },
  {
   "cell_type": "code",
   "execution_count": 16,
   "id": "47c4e8af-c5d0-49f5-8220-eeda1d8cb7b3",
   "metadata": {},
   "outputs": [
    {
     "data": {
      "text/plain": [
       "dtype('float64')"
      ]
     },
     "execution_count": 16,
     "metadata": {},
     "output_type": "execute_result"
    }
   ],
   "source": [
    "array.dtype"
   ]
  },
  {
   "cell_type": "code",
   "execution_count": 20,
   "id": "e5358dbd-5a3c-44c9-a7a9-8ad0a886ab49",
   "metadata": {},
   "outputs": [
    {
     "data": {
      "text/plain": [
       "(array([2., 3., 4., 5., 6., 7., 8.]),\n",
       " tensor([1., 2., 3., 4., 5., 6., 7.], dtype=torch.float64))"
      ]
     },
     "execution_count": 20,
     "metadata": {},
     "output_type": "execute_result"
    }
   ],
   "source": [
    "# change the value of an array\n",
    "array = array + 1\n",
    "array, tensor"
   ]
  },
  {
   "cell_type": "code",
   "execution_count": 22,
   "id": "3b1a8932-252b-43ac-92b5-5a6ab4c8126d",
   "metadata": {},
   "outputs": [
    {
     "data": {
      "text/plain": [
       "(tensor([1., 1., 1., 1., 1., 1., 1.]),\n",
       " array([1., 1., 1., 1., 1., 1., 1.], dtype=float32))"
      ]
     },
     "execution_count": 22,
     "metadata": {},
     "output_type": "execute_result"
    }
   ],
   "source": [
    "# tensor to numpy array\n",
    "tensor = torch.ones(7)\n",
    "\n",
    "numpy_tensor = tensor.numpy()\n",
    "tensor, numpy_tensor\n"
   ]
  },
  {
   "cell_type": "code",
   "execution_count": 23,
   "id": "c8ebf397-e510-4da7-a1fb-4718920a598a",
   "metadata": {},
   "outputs": [
    {
     "data": {
      "text/plain": [
       "(torch.float32, dtype('float32'))"
      ]
     },
     "execution_count": 23,
     "metadata": {},
     "output_type": "execute_result"
    }
   ],
   "source": [
    "tensor.dtype, numpy_tensor.dtype"
   ]
  },
  {
   "cell_type": "code",
   "execution_count": 24,
   "id": "939f6f48-58e4-476d-b33f-65d6e3cb0588",
   "metadata": {},
   "outputs": [
    {
     "data": {
      "text/plain": [
       "(tensor([2., 2., 2., 2., 2., 2., 2.]),\n",
       " array([1., 1., 1., 1., 1., 1., 1.], dtype=float32))"
      ]
     },
     "execution_count": 24,
     "metadata": {},
     "output_type": "execute_result"
    }
   ],
   "source": [
    "# change the tensor, what happen to `numpy tensor`?\n",
    "\n",
    "tensor = tensor + 1\n",
    "tensor, numpy_tensor"
   ]
  }
 ],
 "metadata": {
  "kernelspec": {
   "display_name": "Python 3 (ipykernel)",
   "language": "python",
   "name": "python3"
  },
  "language_info": {
   "codemirror_mode": {
    "name": "ipython",
    "version": 3
   },
   "file_extension": ".py",
   "mimetype": "text/x-python",
   "name": "python",
   "nbconvert_exporter": "python",
   "pygments_lexer": "ipython3",
   "version": "3.10.12"
  }
 },
 "nbformat": 4,
 "nbformat_minor": 5
}
