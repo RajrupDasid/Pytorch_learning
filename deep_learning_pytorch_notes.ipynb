{
 "cells": [
  {
   "cell_type": "markdown",
   "id": "63233c96-010f-4f76-8f6b-e322c4740168",
   "metadata": {},
   "source": [
    "# What is machine learning - \n",
    "\n",
    " ### Take some real world computer generated data and then convert them into numbers and form those numbers trying to find out the  pattern"
   ]
  },
  {
   "cell_type": "markdown",
   "id": "9b22f174-da6b-4783-bd60-7d52d97c6313",
   "metadata": {
    "editable": true,
    "slideshow": {
     "slide_type": ""
    },
    "tags": []
   },
   "source": [
    "# types of learning\n",
    "Supervised learning - when we have data and inputs (like images of food with labes (name of photos) )\n",
    "\n",
    "Unsupervised learning (self supervised learning) -  When we just have the data not the lables that could signfy the what kind of data is (inherit representation of data which we have to patter it out.)\n",
    "\n",
    "Transfer learning - Transfer already learned models into other model for a perticular usecase\n",
    "\n",
    "Reinforcement learning - Self intelligence can be called as true AI"
   ]
  },
  {
   "cell_type": "markdown",
   "id": "db2861f1-cf9d-4b5b-9a0a-93516305a0fe",
   "metadata": {},
   "source": [
    "##### HW - what is  deep learning actually used for\n",
    "\n",
    "###### A - Recommendations (ex = youtube recommendation ), translator - (Mozilla Translator, Microsoft translator), speech rechognizition , computer vision  (object detection), NLP (Spam detector on email)"
   ]
  },
  {
   "cell_type": "markdown",
   "id": "854f073d-05f7-4dcc-9519-72c4fe96eaeb",
   "metadata": {},
   "source": [
    "# Pytorch"
   ]
  },
  {
   "cell_type": "markdown",
   "id": "c580eeb5-e784-40ca-8b4a-36a1e480c44a",
   "metadata": {},
   "source": [
    "### What is  Pytorch\n",
    "- Most popular research deeplearning framework\n",
    "- write fast deep learning code in Python (able to run on a GPU)\n",
    "- Able to access pre-build deep learning models (Torchhub / torchvision.models)\n",
    "- Whole stack: preprocess data, model data, deploy model in your application/cloud"
   ]
  },
  {
   "cell_type": "markdown",
   "id": "bed1594e-eca0-4d28-8843-e3af49f928d6",
   "metadata": {},
   "source": [
    "# What is a Tensor\n",
    "- Tensor is a number or a representation of numbers written inside [ 1 ]\n",
    "- or encode your data into numbers"
   ]
  },
  {
   "cell_type": "markdown",
   "id": "2c875a29-68ea-472a-b4ca-ccb030993f81",
   "metadata": {},
   "source": [
    "# Scalar Characteristics\n",
    "\n",
    "- Scalar has no number of diminsions by default\n",
    "- Get tensor back as python int\n",
    "- "
   ]
  },
  {
   "cell_type": "markdown",
   "id": "6be53018-c1f1-416c-a3d1-ccca5d6693b8",
   "metadata": {},
   "source": [
    "# Vector\n",
    "\n",
    "- A vector has magnitude and dimensions\n",
    "\n"
   ]
  },
  {
   "cell_type": "code",
   "execution_count": null,
   "id": "85a5d7a4-3235-419e-aed1-a56b6ef03d1c",
   "metadata": {},
   "outputs": [],
   "source": [
    "# Matrix\n"
   ]
  },
  {
   "cell_type": "markdown",
   "id": "e5eea4b8-f159-405f-aad0-85cd4c609422",
   "metadata": {},
   "source": [
    "### Random tensors\n",
    "\n",
    "Why Random tensors\n",
    "\n",
    "Random tensors are important because the way many neural network learn is that \n",
    "they start with  tensors full of random numbers and then adjust those random numbers \n",
    "to better represent the data.\n",
    "\n"
   ]
  },
  {
   "cell_type": "markdown",
   "id": "206ae87c-6226-48cb-bc50-603df468b6e6",
   "metadata": {},
   "source": [
    "```\n",
    "Start with random numbers -> look at data -> update random numbers -> look at data -> update random numbers\n",
    "\n",
    "```\n",
    "\n",
    "more data - [torch.rand](https://pytorch.org/docs/stable/generated/torch.rand.html)"
   ]
  },
  {
   "cell_type": "markdown",
   "id": "712628c7-f468-4e8a-b940-90793ab4a397",
   "metadata": {},
   "source": [
    "# Tensor datatypes\n",
    "\n",
    "**Note** Tensor datatypes is one of the 3 big issues/error with pytorch & deep learning\n",
    "\n",
    "1. Tensor not right datatype\n",
    "2. Tensor is not right shape\n",
    "3. tensor not on the right device"
   ]
  },
  {
   "cell_type": "markdown",
   "id": "c204ac7d-5dc6-405e-b2f5-2958b3b495ee",
   "metadata": {},
   "source": [
    "### Precision\n",
    "**Note**\n",
    "[Precision In coputer science](https://en.wikipedia.org/wiki/Precision_(computer_science))"
   ]
  },
  {
   "cell_type": "markdown",
   "id": "a610eadf-8d72-4a8c-8d62-ecdfeb8f1a1d",
   "metadata": {},
   "source": [
    "**Note**\n",
    "\n",
    "Attribute - which is written as function.someattribute # ex of Attribute\n",
    "\n",
    "method - which is written with curly braces torch.rand() # ex of method"
   ]
  },
  {
   "cell_type": "markdown",
   "id": "2216d0cc-1876-470f-9f3d-ef7c33f7616e",
   "metadata": {},
   "source": [
    "## Manipulating Tensors (Tensor operations)\n",
    "\n",
    "Tensor operations include :\n",
    "\n",
    "* Addition\n",
    "* Subtraction\n",
    "* Multiplication (element- wise)\n",
    "* Division\n",
    "* Matrix Multiplication\n"
   ]
  },
  {
   "cell_type": "markdown",
   "id": "a944b426-8262-453e-b31a-2b9d2dfbc262",
   "metadata": {},
   "source": [
    "### Matrix multiplication\n",
    "\n",
    "Two main ways of performing multiplication is neural networks and deep learning\n",
    "\n",
    "1. Element-wise multiplication\n",
    "2. Matrix multiplication\n",
    "\n",
    "\n",
    "There are two main rules that performing matrix multiplication needs to satisfy:\n",
    "\n",
    "1. The **inner dimensions** must match:\n",
    "\n",
    "* `(3,2) @ (3,2)` won't work\n",
    "* `(2,3) @ (3,2)` will work\n",
    "* `(3,2) @ (2,3)` will work\n",
    "\n",
    "2. The resulting matrix has the shape of the outer dimension\n",
    "\n",
    "* `(2,3) @ (3,2)` - >  `(2,2)`\n",
    "* `(3,2) @ (2,3)` - > `(3,3)`"
   ]
  },
  {
   "cell_type": "markdown",
   "id": "cf4f3700-90f8-45c1-9065-462c31adc988",
   "metadata": {},
   "source": [
    "We can fix the shape of the current tensor shape using **Transpose**\n",
    "\n",
    "A **transpose** switches the axis or dimensions of a given tensor."
   ]
  }
 ],
 "metadata": {
  "kernelspec": {
   "display_name": "Python 3 (ipykernel)",
   "language": "python",
   "name": "python3"
  },
  "language_info": {
   "codemirror_mode": {
    "name": "ipython",
    "version": 3
   },
   "file_extension": ".py",
   "mimetype": "text/x-python",
   "name": "python",
   "nbconvert_exporter": "python",
   "pygments_lexer": "ipython3",
   "version": "3.10.12"
  }
 },
 "nbformat": 4,
 "nbformat_minor": 5
}
